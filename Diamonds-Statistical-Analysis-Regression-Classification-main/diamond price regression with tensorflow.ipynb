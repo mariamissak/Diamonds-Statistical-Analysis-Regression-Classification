{
 "cells": [
  {
   "cell_type": "markdown",
   "metadata": {},
   "source": [
    "# Introduction\n",
    "\n",
    "In this notebook we use Google's Tensorflow library to predict the price of the diamonds knowing its characteristics.\n",
    "\n",
    "- First we will create a simple linear model based on one feature. \n",
    "- Then we will expand this model to become a multi-valued linear regression model that includes all the features of the dataset. \n",
    "- After that, we will create a deep neural network (dnn) model based on one feature. \n",
    "- And finally we will expand the dnn model to include all the features. \n",
    "\n",
    "After we create the four models, we will compare their performance and manage each model's loss."
   ]
  },
  {
   "cell_type": "markdown",
   "metadata": {},
   "source": [
    "### Importing important libraries"
   ]
  },
  {
   "cell_type": "code",
   "execution_count": 2,
   "metadata": {},
   "outputs": [
    {
     "name": "stderr",
     "output_type": "stream",
     "text": [
      "2021-12-28 20:53:44.699746: W tensorflow/stream_executor/platform/default/dso_loader.cc:64] Could not load dynamic library 'libcudart.so.11.0'; dlerror: libcudart.so.11.0: cannot open shared object file: No such file or directory\n",
      "2021-12-28 20:53:44.699789: I tensorflow/stream_executor/cuda/cudart_stub.cc:29] Ignore above cudart dlerror if you do not have a GPU set up on your machine.\n"
     ]
    }
   ],
   "source": [
    "import numpy as np\n",
    "import pandas as pd\n",
    "import matplotlib.pyplot as plt\n",
    "import seaborn as sns\n",
    "\n",
    "# Make NumPy printouts easier to read.\n",
    "np.set_printoptions(precision=3, suppress=True)\n",
    "import tensorflow as tf\n",
    "from tensorflow.keras.layers import Dense, Normalization\n",
    "from tensorflow.keras.models import Model\n",
    "\n",
    "from scipy import stats"
   ]
  },
  {
   "cell_type": "markdown",
   "metadata": {},
   "source": [
    "## The data\n",
    "\n",
    "### Getting the data\n",
    "\n",
    "Reading the dataset into a Pandas Dataframe Object"
   ]
  },
  {
   "cell_type": "code",
   "execution_count": 3,
   "metadata": {},
   "outputs": [],
   "source": [
    "data = pd.read_csv(\"diamonds.csv\")"
   ]
  },
  {
   "cell_type": "code",
   "execution_count": 4,
   "metadata": {},
   "outputs": [
    {
     "data": {
      "text/html": [
       "<div>\n",
       "<style scoped>\n",
       "    .dataframe tbody tr th:only-of-type {\n",
       "        vertical-align: middle;\n",
       "    }\n",
       "\n",
       "    .dataframe tbody tr th {\n",
       "        vertical-align: top;\n",
       "    }\n",
       "\n",
       "    .dataframe thead th {\n",
       "        text-align: right;\n",
       "    }\n",
       "</style>\n",
       "<table border=\"1\" class=\"dataframe\">\n",
       "  <thead>\n",
       "    <tr style=\"text-align: right;\">\n",
       "      <th></th>\n",
       "      <th>carat</th>\n",
       "      <th>cut</th>\n",
       "      <th>color</th>\n",
       "      <th>clarity</th>\n",
       "      <th>depth</th>\n",
       "      <th>table</th>\n",
       "      <th>price</th>\n",
       "      <th>x</th>\n",
       "      <th>y</th>\n",
       "      <th>z</th>\n",
       "    </tr>\n",
       "  </thead>\n",
       "  <tbody>\n",
       "    <tr>\n",
       "      <th>0</th>\n",
       "      <td>0.23</td>\n",
       "      <td>Ideal</td>\n",
       "      <td>E</td>\n",
       "      <td>SI2</td>\n",
       "      <td>61.5</td>\n",
       "      <td>55.0</td>\n",
       "      <td>326</td>\n",
       "      <td>3.95</td>\n",
       "      <td>3.98</td>\n",
       "      <td>2.43</td>\n",
       "    </tr>\n",
       "    <tr>\n",
       "      <th>1</th>\n",
       "      <td>0.21</td>\n",
       "      <td>Premium</td>\n",
       "      <td>E</td>\n",
       "      <td>SI1</td>\n",
       "      <td>59.8</td>\n",
       "      <td>61.0</td>\n",
       "      <td>326</td>\n",
       "      <td>3.89</td>\n",
       "      <td>3.84</td>\n",
       "      <td>2.31</td>\n",
       "    </tr>\n",
       "    <tr>\n",
       "      <th>2</th>\n",
       "      <td>0.23</td>\n",
       "      <td>Good</td>\n",
       "      <td>E</td>\n",
       "      <td>VS1</td>\n",
       "      <td>56.9</td>\n",
       "      <td>65.0</td>\n",
       "      <td>327</td>\n",
       "      <td>4.05</td>\n",
       "      <td>4.07</td>\n",
       "      <td>2.31</td>\n",
       "    </tr>\n",
       "    <tr>\n",
       "      <th>3</th>\n",
       "      <td>0.29</td>\n",
       "      <td>Premium</td>\n",
       "      <td>I</td>\n",
       "      <td>VS2</td>\n",
       "      <td>62.4</td>\n",
       "      <td>58.0</td>\n",
       "      <td>334</td>\n",
       "      <td>4.20</td>\n",
       "      <td>4.23</td>\n",
       "      <td>2.63</td>\n",
       "    </tr>\n",
       "    <tr>\n",
       "      <th>4</th>\n",
       "      <td>0.31</td>\n",
       "      <td>Good</td>\n",
       "      <td>J</td>\n",
       "      <td>SI2</td>\n",
       "      <td>63.3</td>\n",
       "      <td>58.0</td>\n",
       "      <td>335</td>\n",
       "      <td>4.34</td>\n",
       "      <td>4.35</td>\n",
       "      <td>2.75</td>\n",
       "    </tr>\n",
       "  </tbody>\n",
       "</table>\n",
       "</div>"
      ],
      "text/plain": [
       "   carat      cut color clarity  depth  table  price     x     y     z\n",
       "0   0.23    Ideal     E     SI2   61.5   55.0    326  3.95  3.98  2.43\n",
       "1   0.21  Premium     E     SI1   59.8   61.0    326  3.89  3.84  2.31\n",
       "2   0.23     Good     E     VS1   56.9   65.0    327  4.05  4.07  2.31\n",
       "3   0.29  Premium     I     VS2   62.4   58.0    334  4.20  4.23  2.63\n",
       "4   0.31     Good     J     SI2   63.3   58.0    335  4.34  4.35  2.75"
      ]
     },
     "execution_count": 4,
     "metadata": {},
     "output_type": "execute_result"
    }
   ],
   "source": [
    "data.head()"
   ]
  },
  {
   "cell_type": "markdown",
   "metadata": {},
   "source": [
    "### Cleaning the data\n",
    "The dataset has no null values as seen:"
   ]
  },
  {
   "cell_type": "code",
   "execution_count": 34,
   "metadata": {},
   "outputs": [
    {
     "data": {
      "text/plain": [
       "carat      0\n",
       "cut        0\n",
       "color      0\n",
       "clarity    0\n",
       "depth      0\n",
       "table      0\n",
       "price      0\n",
       "x          0\n",
       "y          0\n",
       "z          0\n",
       "dtype: int64"
      ]
     },
     "execution_count": 34,
     "metadata": {},
     "output_type": "execute_result"
    }
   ],
   "source": [
    "data.isna().sum()"
   ]
  },
  {
   "cell_type": "markdown",
   "metadata": {},
   "source": [
    "The `color` and `cut` and `clarity` columns are categorical, not numeric. So the next step is to one-hot encode the values in the columns with `pd.get_dummies`."
   ]
  },
  {
   "cell_type": "code",
   "execution_count": 5,
   "metadata": {},
   "outputs": [
    {
     "data": {
      "text/html": [
       "<div>\n",
       "<style scoped>\n",
       "    .dataframe tbody tr th:only-of-type {\n",
       "        vertical-align: middle;\n",
       "    }\n",
       "\n",
       "    .dataframe tbody tr th {\n",
       "        vertical-align: top;\n",
       "    }\n",
       "\n",
       "    .dataframe thead th {\n",
       "        text-align: right;\n",
       "    }\n",
       "</style>\n",
       "<table border=\"1\" class=\"dataframe\">\n",
       "  <thead>\n",
       "    <tr style=\"text-align: right;\">\n",
       "      <th></th>\n",
       "      <th>carat</th>\n",
       "      <th>depth</th>\n",
       "      <th>table</th>\n",
       "      <th>price</th>\n",
       "      <th>x</th>\n",
       "      <th>y</th>\n",
       "      <th>z</th>\n",
       "      <th>color_D</th>\n",
       "      <th>color_E</th>\n",
       "      <th>color_F</th>\n",
       "      <th>...</th>\n",
       "      <th>cut_Premium</th>\n",
       "      <th>cut_Very Good</th>\n",
       "      <th>clarity_I1</th>\n",
       "      <th>clarity_IF</th>\n",
       "      <th>clarity_SI1</th>\n",
       "      <th>clarity_SI2</th>\n",
       "      <th>clarity_VS1</th>\n",
       "      <th>clarity_VS2</th>\n",
       "      <th>clarity_VVS1</th>\n",
       "      <th>clarity_VVS2</th>\n",
       "    </tr>\n",
       "  </thead>\n",
       "  <tbody>\n",
       "    <tr>\n",
       "      <th>0</th>\n",
       "      <td>0.23</td>\n",
       "      <td>61.5</td>\n",
       "      <td>55.0</td>\n",
       "      <td>326</td>\n",
       "      <td>3.95</td>\n",
       "      <td>3.98</td>\n",
       "      <td>2.43</td>\n",
       "      <td>0</td>\n",
       "      <td>1</td>\n",
       "      <td>0</td>\n",
       "      <td>...</td>\n",
       "      <td>0</td>\n",
       "      <td>0</td>\n",
       "      <td>0</td>\n",
       "      <td>0</td>\n",
       "      <td>0</td>\n",
       "      <td>1</td>\n",
       "      <td>0</td>\n",
       "      <td>0</td>\n",
       "      <td>0</td>\n",
       "      <td>0</td>\n",
       "    </tr>\n",
       "    <tr>\n",
       "      <th>1</th>\n",
       "      <td>0.21</td>\n",
       "      <td>59.8</td>\n",
       "      <td>61.0</td>\n",
       "      <td>326</td>\n",
       "      <td>3.89</td>\n",
       "      <td>3.84</td>\n",
       "      <td>2.31</td>\n",
       "      <td>0</td>\n",
       "      <td>1</td>\n",
       "      <td>0</td>\n",
       "      <td>...</td>\n",
       "      <td>1</td>\n",
       "      <td>0</td>\n",
       "      <td>0</td>\n",
       "      <td>0</td>\n",
       "      <td>1</td>\n",
       "      <td>0</td>\n",
       "      <td>0</td>\n",
       "      <td>0</td>\n",
       "      <td>0</td>\n",
       "      <td>0</td>\n",
       "    </tr>\n",
       "    <tr>\n",
       "      <th>2</th>\n",
       "      <td>0.23</td>\n",
       "      <td>56.9</td>\n",
       "      <td>65.0</td>\n",
       "      <td>327</td>\n",
       "      <td>4.05</td>\n",
       "      <td>4.07</td>\n",
       "      <td>2.31</td>\n",
       "      <td>0</td>\n",
       "      <td>1</td>\n",
       "      <td>0</td>\n",
       "      <td>...</td>\n",
       "      <td>0</td>\n",
       "      <td>0</td>\n",
       "      <td>0</td>\n",
       "      <td>0</td>\n",
       "      <td>0</td>\n",
       "      <td>0</td>\n",
       "      <td>1</td>\n",
       "      <td>0</td>\n",
       "      <td>0</td>\n",
       "      <td>0</td>\n",
       "    </tr>\n",
       "    <tr>\n",
       "      <th>3</th>\n",
       "      <td>0.29</td>\n",
       "      <td>62.4</td>\n",
       "      <td>58.0</td>\n",
       "      <td>334</td>\n",
       "      <td>4.20</td>\n",
       "      <td>4.23</td>\n",
       "      <td>2.63</td>\n",
       "      <td>0</td>\n",
       "      <td>0</td>\n",
       "      <td>0</td>\n",
       "      <td>...</td>\n",
       "      <td>1</td>\n",
       "      <td>0</td>\n",
       "      <td>0</td>\n",
       "      <td>0</td>\n",
       "      <td>0</td>\n",
       "      <td>0</td>\n",
       "      <td>0</td>\n",
       "      <td>1</td>\n",
       "      <td>0</td>\n",
       "      <td>0</td>\n",
       "    </tr>\n",
       "    <tr>\n",
       "      <th>4</th>\n",
       "      <td>0.31</td>\n",
       "      <td>63.3</td>\n",
       "      <td>58.0</td>\n",
       "      <td>335</td>\n",
       "      <td>4.34</td>\n",
       "      <td>4.35</td>\n",
       "      <td>2.75</td>\n",
       "      <td>0</td>\n",
       "      <td>0</td>\n",
       "      <td>0</td>\n",
       "      <td>...</td>\n",
       "      <td>0</td>\n",
       "      <td>0</td>\n",
       "      <td>0</td>\n",
       "      <td>0</td>\n",
       "      <td>0</td>\n",
       "      <td>1</td>\n",
       "      <td>0</td>\n",
       "      <td>0</td>\n",
       "      <td>0</td>\n",
       "      <td>0</td>\n",
       "    </tr>\n",
       "  </tbody>\n",
       "</table>\n",
       "<p>5 rows × 27 columns</p>\n",
       "</div>"
      ],
      "text/plain": [
       "   carat  depth  table  price     x     y     z  color_D  color_E  color_F  \\\n",
       "0   0.23   61.5   55.0    326  3.95  3.98  2.43        0        1        0   \n",
       "1   0.21   59.8   61.0    326  3.89  3.84  2.31        0        1        0   \n",
       "2   0.23   56.9   65.0    327  4.05  4.07  2.31        0        1        0   \n",
       "3   0.29   62.4   58.0    334  4.20  4.23  2.63        0        0        0   \n",
       "4   0.31   63.3   58.0    335  4.34  4.35  2.75        0        0        0   \n",
       "\n",
       "   ...  cut_Premium  cut_Very Good  clarity_I1  clarity_IF  clarity_SI1  \\\n",
       "0  ...            0              0           0           0            0   \n",
       "1  ...            1              0           0           0            1   \n",
       "2  ...            0              0           0           0            0   \n",
       "3  ...            1              0           0           0            0   \n",
       "4  ...            0              0           0           0            0   \n",
       "\n",
       "   clarity_SI2  clarity_VS1  clarity_VS2  clarity_VVS1  clarity_VVS2  \n",
       "0            1            0            0             0             0  \n",
       "1            0            0            0             0             0  \n",
       "2            0            1            0             0             0  \n",
       "3            0            0            1             0             0  \n",
       "4            1            0            0             0             0  \n",
       "\n",
       "[5 rows x 27 columns]"
      ]
     },
     "execution_count": 5,
     "metadata": {},
     "output_type": "execute_result"
    }
   ],
   "source": [
    "data = pd.get_dummies(data, columns=['color'], prefix='color')\n",
    "data = pd.get_dummies(data, columns=['cut'], prefix='cut')\n",
    "data = pd.get_dummies(data, columns=['clarity'], prefix='clarity')\n",
    "data.head()"
   ]
  },
  {
   "cell_type": "markdown",
   "metadata": {},
   "source": [
    "Remove outliers that have z score higher than 3 or lower than -3 "
   ]
  },
  {
   "cell_type": "code",
   "execution_count": 6,
   "metadata": {},
   "outputs": [],
   "source": [
    "data = data[(np.abs(stats.zscore(data)) < 3).all(axis=1)]\n"
   ]
  },
  {
   "cell_type": "markdown",
   "metadata": {},
   "source": [
    "### Split the data into training and test sets\n",
    "Now, split the dataset into a training set and a test set. We will use the test set in the final evaluation of the models."
   ]
  },
  {
   "cell_type": "code",
   "execution_count": 7,
   "metadata": {},
   "outputs": [],
   "source": [
    "train_dataset = data.sample(frac=0.8, random_state=0)\n",
    "test_dataset = data.drop(train_dataset.index)"
   ]
  },
  {
   "cell_type": "markdown",
   "metadata": {},
   "source": [
    "### Split features from labels\n",
    "Separate the target value —the price, also called the label— from the features. This label is the value that we will train the model to predict."
   ]
  },
  {
   "cell_type": "code",
   "execution_count": 8,
   "metadata": {},
   "outputs": [],
   "source": [
    "train_features = train_dataset.copy()\n",
    "test_features = test_dataset.copy()\n",
    "\n",
    "train_labels = train_features.pop('price')\n",
    "test_labels = test_features.pop('price')\n"
   ]
  },
  {
   "cell_type": "markdown",
   "metadata": {},
   "source": [
    "## Normalization\n",
    "In the table of statistics it's easy to see that the feautures have different ranges. some range in the units , some in the hundreds, some in the thousands."
   ]
  },
  {
   "cell_type": "code",
   "execution_count": 9,
   "metadata": {},
   "outputs": [
    {
     "data": {
      "text/html": [
       "<div>\n",
       "<style scoped>\n",
       "    .dataframe tbody tr th:only-of-type {\n",
       "        vertical-align: middle;\n",
       "    }\n",
       "\n",
       "    .dataframe tbody tr th {\n",
       "        vertical-align: top;\n",
       "    }\n",
       "\n",
       "    .dataframe thead th {\n",
       "        text-align: right;\n",
       "    }\n",
       "</style>\n",
       "<table border=\"1\" class=\"dataframe\">\n",
       "  <thead>\n",
       "    <tr style=\"text-align: right;\">\n",
       "      <th></th>\n",
       "      <th>mean</th>\n",
       "      <th>std</th>\n",
       "    </tr>\n",
       "  </thead>\n",
       "  <tbody>\n",
       "    <tr>\n",
       "      <th>carat</th>\n",
       "      <td>0.785626</td>\n",
       "      <td>0.416910</td>\n",
       "    </tr>\n",
       "    <tr>\n",
       "      <th>depth</th>\n",
       "      <td>61.611885</td>\n",
       "      <td>1.096740</td>\n",
       "    </tr>\n",
       "    <tr>\n",
       "      <th>table</th>\n",
       "      <td>57.370539</td>\n",
       "      <td>2.002749</td>\n",
       "    </tr>\n",
       "    <tr>\n",
       "      <th>price</th>\n",
       "      <td>3715.782066</td>\n",
       "      <td>3427.572015</td>\n",
       "    </tr>\n",
       "    <tr>\n",
       "      <th>x</th>\n",
       "      <td>5.744671</td>\n",
       "      <td>1.032990</td>\n",
       "    </tr>\n",
       "    <tr>\n",
       "      <th>y</th>\n",
       "      <td>5.745005</td>\n",
       "      <td>1.026416</td>\n",
       "    </tr>\n",
       "    <tr>\n",
       "      <th>z</th>\n",
       "      <td>3.538966</td>\n",
       "      <td>0.633848</td>\n",
       "    </tr>\n",
       "  </tbody>\n",
       "</table>\n",
       "</div>"
      ],
      "text/plain": [
       "              mean          std\n",
       "carat     0.785626     0.416910\n",
       "depth    61.611885     1.096740\n",
       "table    57.370539     2.002749\n",
       "price  3715.782066  3427.572015\n",
       "x         5.744671     1.032990\n",
       "y         5.745005     1.026416\n",
       "z         3.538966     0.633848"
      ]
     },
     "execution_count": 9,
     "metadata": {},
     "output_type": "execute_result"
    }
   ],
   "source": [
    "train_dataset[['carat', 'depth', 'table', 'price', 'x', 'y', 'z']].describe().transpose()[['mean', 'std']]"
   ]
  },
  {
   "cell_type": "markdown",
   "metadata": {},
   "source": [
    "It is good practice to normalize features that have different ranges.\n",
    "\n",
    "If we skip normalizing the features, the model will still converge (ie: reach the optimum loss. ie: become able to predict and perform regression as best as it can), However, normalization makes training much more stable and faster in performance."
   ]
  },
  {
   "cell_type": "markdown",
   "metadata": {},
   "source": [
    "### The Normalization layer\n",
    "The tf.keras.layers.Normalization is a clean and simple way to add feature normalization into our model.\n",
    "\n",
    "The first step is to create the layer:"
   ]
  },
  {
   "cell_type": "code",
   "execution_count": 10,
   "metadata": {},
   "outputs": [],
   "source": [
    "normalizer = tf.keras.layers.Normalization(axis=-1)"
   ]
  },
  {
   "cell_type": "markdown",
   "metadata": {},
   "source": [
    "Then, fit the state of the preprocessing layer to the data by calling Normalization.adapt:"
   ]
  },
  {
   "cell_type": "code",
   "execution_count": 11,
   "metadata": {},
   "outputs": [
    {
     "name": "stderr",
     "output_type": "stream",
     "text": [
      "2021-12-28 20:55:28.946451: W tensorflow/stream_executor/platform/default/dso_loader.cc:64] Could not load dynamic library 'libcuda.so.1'; dlerror: libcuda.so.1: cannot open shared object file: No such file or directory\n",
      "2021-12-28 20:55:28.946562: W tensorflow/stream_executor/cuda/cuda_driver.cc:269] failed call to cuInit: UNKNOWN ERROR (303)\n",
      "2021-12-28 20:55:28.946607: I tensorflow/stream_executor/cuda/cuda_diagnostics.cc:156] kernel driver does not appear to be running on this host (DESKTOP-IMB35Q1): /proc/driver/nvidia/version does not exist\n",
      "2021-12-28 20:55:28.949044: I tensorflow/core/platform/cpu_feature_guard.cc:151] This TensorFlow binary is optimized with oneAPI Deep Neural Network Library (oneDNN) to use the following CPU instructions in performance-critical operations:  AVX2 FMA\n",
      "To enable them in other operations, rebuild TensorFlow with the appropriate compiler flags.\n"
     ]
    }
   ],
   "source": [
    "normalizer.adapt(np.array(train_features))"
   ]
  },
  {
   "cell_type": "markdown",
   "metadata": {},
   "source": [
    "Calculate the mean and variance, and store them in the layer:"
   ]
  },
  {
   "cell_type": "code",
   "execution_count": 12,
   "metadata": {},
   "outputs": [
    {
     "name": "stdout",
     "output_type": "stream",
     "text": [
      "[[ 0.786 61.612 57.371  5.745  5.745  3.539  0.149  0.2    0.181  0.202\n",
      "   0.162  0.106  0.     0.     0.     0.425  0.317  0.258  0.     0.\n",
      "   0.3    0.202  0.199  0.299  0.     0.   ]]\n"
     ]
    }
   ],
   "source": [
    "print(normalizer.mean.numpy())"
   ]
  },
  {
   "cell_type": "markdown",
   "metadata": {},
   "source": [
    "When the layer is called, it returns the input data, with each feature independently normalized:"
   ]
  },
  {
   "cell_type": "code",
   "execution_count": 13,
   "metadata": {},
   "outputs": [
    {
     "name": "stdout",
     "output_type": "stream",
     "text": [
      "First example: [[ 1.1  61.5  56.    6.61  6.65  4.08  0.    0.    0.    0.    1.    0.\n",
      "   0.    0.    0.    1.    0.    0.    0.    0.    1.    0.    0.    0.\n",
      "   0.    0.  ]]\n",
      "\n",
      "Normalized: [[ 0.75 -0.1  -0.68  0.84  0.88  0.85 -0.42 -0.5  -0.47 -0.5   2.27 -0.35\n",
      "   0.    0.    0.    1.16 -0.68 -0.59  0.    0.    1.53 -0.5  -0.5  -0.65\n",
      "   0.    0.  ]]\n"
     ]
    }
   ],
   "source": [
    "first = np.array(train_features[:1])\n",
    "\n",
    "with np.printoptions(precision=2, suppress=True):\n",
    "    print('First example:', first)\n",
    "    print()\n",
    "    print('Normalized:', normalizer(first).numpy())\n"
   ]
  },
  {
   "cell_type": "markdown",
   "metadata": {},
   "source": [
    "## Linear regression\n",
    "We start with linear regression using one and several variables.\n",
    "\n",
    "### Linear regression with one variable\n",
    "we Begin with a single-variable linear regression to predict 'price' from 'carat'.\n",
    "\n",
    "Training a model with tf.keras typically starts by defining the model architecture. Use a tf.keras.Sequential model, which represents a sequence of steps.\n",
    "\n",
    "There are two steps in your single-variable linear regression model:\n",
    "\n",
    "- Normalize the `carat` input features using the `tf.keras.layers.Normalization` preprocessing layer.\n",
    "- Apply a linear transformation (`y = mx + b`) to produce 1 output using a linear layer `tf.keras.layers.Dense`.\n",
    "\n"
   ]
  },
  {
   "cell_type": "code",
   "execution_count": 14,
   "metadata": {},
   "outputs": [],
   "source": [
    "carat = np.array(train_features['carat'])\n",
    "\n",
    "carat_normalizer = Normalization(input_shape=[1, ], axis=None)\n",
    "carat_normalizer.adapt(carat)\n"
   ]
  },
  {
   "cell_type": "markdown",
   "metadata": {},
   "source": [
    "Build the Keras Sequential model:"
   ]
  },
  {
   "cell_type": "code",
   "execution_count": 15,
   "metadata": {},
   "outputs": [
    {
     "name": "stdout",
     "output_type": "stream",
     "text": [
      "Model: \"sequential\"\n",
      "_________________________________________________________________\n",
      " Layer (type)                Output Shape              Param #   \n",
      "=================================================================\n",
      " normalization_1 (Normalizat  (None, 1)                3         \n",
      " ion)                                                            \n",
      "                                                                 \n",
      " dense (Dense)               (None, 1)                 2         \n",
      "                                                                 \n",
      "=================================================================\n",
      "Total params: 5\n",
      "Trainable params: 2\n",
      "Non-trainable params: 3\n",
      "_________________________________________________________________\n"
     ]
    }
   ],
   "source": [
    "carat_model = tf.keras.Sequential([\n",
    "    carat_normalizer,\n",
    "    Dense(units=1)\n",
    "])\n",
    "\n",
    "carat_model.summary()\n"
   ]
  },
  {
   "cell_type": "markdown",
   "metadata": {},
   "source": [
    "This model will predict 'price' from 'carat'.\n",
    "\n",
    "If we run the untrained model on the first 10 'carat' values, the output won't be good because we still need to train the model on the data."
   ]
  },
  {
   "cell_type": "code",
   "execution_count": 16,
   "metadata": {},
   "outputs": [
    {
     "data": {
      "text/plain": [
       "array([[ 0.711],\n",
       "       [-1.076],\n",
       "       [ 0.508],\n",
       "       [-1.076],\n",
       "       [-0.035],\n",
       "       [ 1.005],\n",
       "       [-0.827],\n",
       "       [-0.533],\n",
       "       [-1.189],\n",
       "       [ 1.548]], dtype=float32)"
      ]
     },
     "execution_count": 16,
     "metadata": {},
     "output_type": "execute_result"
    }
   ],
   "source": [
    "carat_model.predict(carat[:10])\n"
   ]
  },
  {
   "cell_type": "markdown",
   "metadata": {},
   "source": [
    "Once the model is built, we compile the it using the Keras `Model.compile` method. We give it a loss function to optimise (mean absolute error in our case) and an optimiser (we choose `tf.keras.optimizers.Adam`)."
   ]
  },
  {
   "cell_type": "code",
   "execution_count": 17,
   "metadata": {},
   "outputs": [],
   "source": [
    "carat_model.compile(\n",
    "    optimizer=tf.optimizers.Adam(learning_rate=0.1),\n",
    "    loss='mean_absolute_error')"
   ]
  },
  {
   "cell_type": "markdown",
   "metadata": {},
   "source": [
    "Use Keras Model.fit to execute the training for 100 epochs:"
   ]
  },
  {
   "cell_type": "code",
   "execution_count": 78,
   "metadata": {},
   "outputs": [
    {
     "name": "stdout",
     "output_type": "stream",
     "text": [
      "Epoch 1/100\n",
      "680/680 [==============================] - 1s 1ms/step - loss: 3655.8179 - val_loss: 3752.0173\n",
      "Epoch 2/100\n",
      "680/680 [==============================] - 1s 1ms/step - loss: 3587.7981 - val_loss: 3684.1125\n",
      "Epoch 3/100\n",
      "680/680 [==============================] - 1s 1ms/step - loss: 3519.7683 - val_loss: 3616.2131\n",
      "Epoch 4/100\n",
      "680/680 [==============================] - 1s 1ms/step - loss: 3451.7397 - val_loss: 3548.3010\n",
      "Epoch 5/100\n",
      "680/680 [==============================] - 1s 1ms/step - loss: 3383.7136 - val_loss: 3480.3906\n",
      "Epoch 6/100\n",
      "680/680 [==============================] - 1s 2ms/step - loss: 3316.0159 - val_loss: 3413.1526\n",
      "Epoch 7/100\n",
      "680/680 [==============================] - 1s 2ms/step - loss: 3250.2029 - val_loss: 3347.8667\n",
      "Epoch 8/100\n",
      "680/680 [==============================] - 1s 2ms/step - loss: 3186.5837 - val_loss: 3283.4985\n",
      "Epoch 9/100\n",
      "680/680 [==============================] - 1s 2ms/step - loss: 3123.6130 - val_loss: 3219.1140\n",
      "Epoch 10/100\n",
      "680/680 [==============================] - 2s 3ms/step - loss: 3060.5342 - val_loss: 3154.4087\n",
      "Epoch 11/100\n",
      "680/680 [==============================] - 1s 1ms/step - loss: 2997.1470 - val_loss: 3089.1328\n",
      "Epoch 12/100\n",
      "680/680 [==============================] - 1s 1ms/step - loss: 2933.4531 - val_loss: 3023.4221\n",
      "Epoch 13/100\n",
      "680/680 [==============================] - 1s 1ms/step - loss: 2869.4243 - val_loss: 2957.4504\n",
      "Epoch 14/100\n",
      "680/680 [==============================] - 1s 1ms/step - loss: 2805.1431 - val_loss: 2891.1301\n",
      "Epoch 15/100\n",
      "680/680 [==============================] - 1s 1ms/step - loss: 2740.6306 - val_loss: 2824.5933\n",
      "Epoch 16/100\n",
      "680/680 [==============================] - 1s 1ms/step - loss: 2676.0710 - val_loss: 2758.0396\n",
      "Epoch 17/100\n",
      "680/680 [==============================] - 1s 1ms/step - loss: 2611.4353 - val_loss: 2691.2668\n",
      "Epoch 18/100\n",
      "680/680 [==============================] - 1s 1ms/step - loss: 2546.7354 - val_loss: 2624.4070\n",
      "Epoch 19/100\n",
      "680/680 [==============================] - 1s 2ms/step - loss: 2481.9189 - val_loss: 2557.3862\n",
      "Epoch 20/100\n",
      "680/680 [==============================] - 1s 2ms/step - loss: 2417.0195 - val_loss: 2490.3669\n",
      "Epoch 21/100\n",
      "680/680 [==============================] - 2s 2ms/step - loss: 2352.2051 - val_loss: 2423.4131\n",
      "Epoch 22/100\n",
      "680/680 [==============================] - 1s 2ms/step - loss: 2287.4453 - val_loss: 2356.3750\n",
      "Epoch 23/100\n",
      "680/680 [==============================] - 1s 2ms/step - loss: 2222.7002 - val_loss: 2289.3618\n",
      "Epoch 24/100\n",
      "680/680 [==============================] - 1s 2ms/step - loss: 2158.0801 - val_loss: 2222.5598\n",
      "Epoch 25/100\n",
      "680/680 [==============================] - 1s 2ms/step - loss: 2093.6421 - val_loss: 2155.9036\n",
      "Epoch 26/100\n",
      "680/680 [==============================] - 1s 2ms/step - loss: 2029.3309 - val_loss: 2089.3164\n",
      "Epoch 27/100\n",
      "680/680 [==============================] - 1s 2ms/step - loss: 1965.2034 - val_loss: 2023.0144\n",
      "Epoch 28/100\n",
      "680/680 [==============================] - 2s 2ms/step - loss: 1901.4442 - val_loss: 1957.0878\n",
      "Epoch 29/100\n",
      "680/680 [==============================] - 1s 2ms/step - loss: 1838.0204 - val_loss: 1891.4310\n",
      "Epoch 30/100\n",
      "680/680 [==============================] - 1s 2ms/step - loss: 1774.9690 - val_loss: 1826.2798\n",
      "Epoch 31/100\n",
      "680/680 [==============================] - 1s 2ms/step - loss: 1712.2874 - val_loss: 1761.5331\n",
      "Epoch 32/100\n",
      "680/680 [==============================] - 1s 2ms/step - loss: 1650.1741 - val_loss: 1697.2980\n",
      "Epoch 33/100\n",
      "680/680 [==============================] - 1s 2ms/step - loss: 1588.7418 - val_loss: 1633.6674\n",
      "Epoch 34/100\n",
      "680/680 [==============================] - 1s 2ms/step - loss: 1527.8997 - val_loss: 1570.6238\n",
      "Epoch 35/100\n",
      "680/680 [==============================] - 1s 2ms/step - loss: 1467.5959 - val_loss: 1508.2104\n",
      "Epoch 36/100\n",
      "680/680 [==============================] - 1s 2ms/step - loss: 1408.0745 - val_loss: 1446.9678\n",
      "Epoch 37/100\n",
      "680/680 [==============================] - 1s 2ms/step - loss: 1349.9191 - val_loss: 1387.4725\n",
      "Epoch 38/100\n",
      "680/680 [==============================] - 1s 2ms/step - loss: 1293.2021 - val_loss: 1329.0740\n",
      "Epoch 39/100\n",
      "680/680 [==============================] - 1s 2ms/step - loss: 1238.1140 - val_loss: 1272.8932\n",
      "Epoch 40/100\n",
      "680/680 [==============================] - 1s 1ms/step - loss: 1184.9270 - val_loss: 1218.5284\n",
      "Epoch 41/100\n",
      "680/680 [==============================] - 1s 1ms/step - loss: 1134.0229 - val_loss: 1166.8691\n",
      "Epoch 42/100\n",
      "680/680 [==============================] - 1s 1ms/step - loss: 1085.8958 - val_loss: 1117.6597\n",
      "Epoch 43/100\n",
      "680/680 [==============================] - 1s 1ms/step - loss: 1040.5468 - val_loss: 1071.4674\n",
      "Epoch 44/100\n",
      "680/680 [==============================] - 1s 1ms/step - loss: 998.4203 - val_loss: 1028.4526\n",
      "Epoch 45/100\n",
      "680/680 [==============================] - 1s 1ms/step - loss: 959.4823 - val_loss: 988.3753\n",
      "Epoch 46/100\n",
      "680/680 [==============================] - 1s 1ms/step - loss: 923.9049 - val_loss: 951.5963\n",
      "Epoch 47/100\n",
      "680/680 [==============================] - 1s 1ms/step - loss: 892.4626 - val_loss: 918.7359\n",
      "Epoch 48/100\n",
      "680/680 [==============================] - 1s 1ms/step - loss: 865.0654 - val_loss: 889.7772\n",
      "Epoch 49/100\n",
      "680/680 [==============================] - 1s 1ms/step - loss: 841.0221 - val_loss: 864.6948\n",
      "Epoch 50/100\n",
      "680/680 [==============================] - 1s 1ms/step - loss: 820.5023 - val_loss: 842.9446\n",
      "Epoch 51/100\n",
      "680/680 [==============================] - 1s 1ms/step - loss: 803.2944 - val_loss: 824.3639\n",
      "Epoch 52/100\n",
      "680/680 [==============================] - 1s 1ms/step - loss: 789.0275 - val_loss: 809.2433\n",
      "Epoch 53/100\n",
      "680/680 [==============================] - 1s 1ms/step - loss: 777.4302 - val_loss: 797.0303\n",
      "Epoch 54/100\n",
      "680/680 [==============================] - 1s 1ms/step - loss: 768.2018 - val_loss: 787.1515\n",
      "Epoch 55/100\n",
      "680/680 [==============================] - 1s 1ms/step - loss: 761.1265 - val_loss: 779.3776\n",
      "Epoch 56/100\n",
      "680/680 [==============================] - 1s 1ms/step - loss: 755.7022 - val_loss: 773.3133\n",
      "Epoch 57/100\n",
      "680/680 [==============================] - 1s 1ms/step - loss: 751.7145 - val_loss: 768.7137\n",
      "Epoch 58/100\n",
      "680/680 [==============================] - 1s 1ms/step - loss: 748.8797 - val_loss: 765.2406\n",
      "Epoch 59/100\n",
      "680/680 [==============================] - 1s 1ms/step - loss: 746.8264 - val_loss: 762.6312\n",
      "Epoch 60/100\n",
      "680/680 [==============================] - 1s 1ms/step - loss: 745.3257 - val_loss: 760.7813\n",
      "Epoch 61/100\n",
      "680/680 [==============================] - 1s 1ms/step - loss: 744.2469 - val_loss: 759.3309\n",
      "Epoch 62/100\n",
      "680/680 [==============================] - 1s 1ms/step - loss: 743.4665 - val_loss: 758.1831\n",
      "Epoch 63/100\n",
      "680/680 [==============================] - 1s 1ms/step - loss: 742.8860 - val_loss: 757.2800\n",
      "Epoch 64/100\n",
      "680/680 [==============================] - 1s 1ms/step - loss: 742.4583 - val_loss: 756.6135\n",
      "Epoch 65/100\n",
      "680/680 [==============================] - 1s 1ms/step - loss: 742.1359 - val_loss: 756.0984\n",
      "Epoch 66/100\n",
      "680/680 [==============================] - 1s 1ms/step - loss: 741.9208 - val_loss: 755.7021\n",
      "Epoch 67/100\n",
      "680/680 [==============================] - 1s 1ms/step - loss: 741.7740 - val_loss: 755.3689\n",
      "Epoch 68/100\n",
      "680/680 [==============================] - 1s 2ms/step - loss: 741.6666 - val_loss: 755.1212\n",
      "Epoch 69/100\n",
      "680/680 [==============================] - 1s 2ms/step - loss: 741.5884 - val_loss: 754.9332\n",
      "Epoch 70/100\n",
      "680/680 [==============================] - 1s 2ms/step - loss: 741.5341 - val_loss: 754.7865\n",
      "Epoch 71/100\n",
      "680/680 [==============================] - 1s 2ms/step - loss: 741.4913 - val_loss: 754.6702\n",
      "Epoch 72/100\n",
      "680/680 [==============================] - 1s 2ms/step - loss: 741.4642 - val_loss: 754.5645\n",
      "Epoch 73/100\n",
      "680/680 [==============================] - 1s 2ms/step - loss: 741.4479 - val_loss: 754.5077\n",
      "Epoch 74/100\n",
      "680/680 [==============================] - 1s 1ms/step - loss: 741.4362 - val_loss: 754.4454\n",
      "Epoch 75/100\n",
      "680/680 [==============================] - 1s 1ms/step - loss: 741.4320 - val_loss: 754.4055\n",
      "Epoch 76/100\n",
      "680/680 [==============================] - 1s 1ms/step - loss: 741.4255 - val_loss: 754.3747\n",
      "Epoch 77/100\n",
      "680/680 [==============================] - 1s 1ms/step - loss: 741.4205 - val_loss: 754.3278\n",
      "Epoch 78/100\n",
      "680/680 [==============================] - 1s 1ms/step - loss: 741.4154 - val_loss: 754.3057\n",
      "Epoch 79/100\n",
      "680/680 [==============================] - 1s 1ms/step - loss: 741.4131 - val_loss: 754.2811\n",
      "Epoch 80/100\n",
      "680/680 [==============================] - 1s 1ms/step - loss: 741.4093 - val_loss: 754.2598\n",
      "Epoch 81/100\n",
      "680/680 [==============================] - 1s 1ms/step - loss: 741.4047 - val_loss: 754.2456\n",
      "Epoch 82/100\n",
      "680/680 [==============================] - 1s 1ms/step - loss: 741.4072 - val_loss: 754.2339\n",
      "Epoch 83/100\n",
      "680/680 [==============================] - 1s 1ms/step - loss: 741.4039 - val_loss: 754.2126\n",
      "Epoch 84/100\n",
      "680/680 [==============================] - 1s 1ms/step - loss: 741.4055 - val_loss: 754.2003\n",
      "Epoch 85/100\n",
      "680/680 [==============================] - 1s 1ms/step - loss: 741.4005 - val_loss: 754.1891\n",
      "Epoch 86/100\n",
      "680/680 [==============================] - 1s 1ms/step - loss: 741.4030 - val_loss: 754.1749\n",
      "Epoch 87/100\n",
      "680/680 [==============================] - 1s 1ms/step - loss: 741.4041 - val_loss: 754.1696\n",
      "Epoch 88/100\n",
      "680/680 [==============================] - 1s 1ms/step - loss: 741.4025 - val_loss: 754.1675\n",
      "Epoch 89/100\n",
      "680/680 [==============================] - 1s 1ms/step - loss: 741.4012 - val_loss: 754.1635\n",
      "Epoch 90/100\n",
      "680/680 [==============================] - 1s 1ms/step - loss: 741.4012 - val_loss: 754.1654\n",
      "Epoch 91/100\n",
      "680/680 [==============================] - 1s 1ms/step - loss: 741.4059 - val_loss: 754.1667\n",
      "Epoch 92/100\n",
      "680/680 [==============================] - 1s 1ms/step - loss: 741.4011 - val_loss: 754.1680\n",
      "Epoch 93/100\n",
      "680/680 [==============================] - 1s 1ms/step - loss: 741.4026 - val_loss: 754.1684\n",
      "Epoch 94/100\n",
      "680/680 [==============================] - 1s 1ms/step - loss: 741.4043 - val_loss: 754.1622\n",
      "Epoch 95/100\n",
      "680/680 [==============================] - 1s 1ms/step - loss: 741.4057 - val_loss: 754.1520\n",
      "Epoch 96/100\n",
      "680/680 [==============================] - 1s 1ms/step - loss: 741.4014 - val_loss: 754.1583\n",
      "Epoch 97/100\n",
      "680/680 [==============================] - 1s 1ms/step - loss: 741.4020 - val_loss: 754.1519\n",
      "Epoch 98/100\n",
      "680/680 [==============================] - 1s 2ms/step - loss: 741.4013 - val_loss: 754.1534\n",
      "Epoch 99/100\n",
      "680/680 [==============================] - 1s 1ms/step - loss: 741.4067 - val_loss: 754.1594\n",
      "Epoch 100/100\n",
      "680/680 [==============================] - 1s 1ms/step - loss: 741.4030 - val_loss: 754.1615\n"
     ]
    }
   ],
   "source": [
    "history = carat_model.fit(\n",
    "    train_features['carat'],\n",
    "    train_labels,\n",
    "    epochs=100,\n",
    "    # Calculate validation results on 20% of the training data.\n",
    "    validation_split=0.2)\n"
   ]
  },
  {
   "cell_type": "markdown",
   "metadata": {},
   "source": [
    "Visualize the model's training progress using the stats stored in the history object:"
   ]
  },
  {
   "cell_type": "code",
   "execution_count": 79,
   "metadata": {},
   "outputs": [
    {
     "data": {
      "text/html": [
       "<div>\n",
       "<style scoped>\n",
       "    .dataframe tbody tr th:only-of-type {\n",
       "        vertical-align: middle;\n",
       "    }\n",
       "\n",
       "    .dataframe tbody tr th {\n",
       "        vertical-align: top;\n",
       "    }\n",
       "\n",
       "    .dataframe thead th {\n",
       "        text-align: right;\n",
       "    }\n",
       "</style>\n",
       "<table border=\"1\" class=\"dataframe\">\n",
       "  <thead>\n",
       "    <tr style=\"text-align: right;\">\n",
       "      <th></th>\n",
       "      <th>loss</th>\n",
       "      <th>val_loss</th>\n",
       "      <th>epoch</th>\n",
       "    </tr>\n",
       "  </thead>\n",
       "  <tbody>\n",
       "    <tr>\n",
       "      <th>95</th>\n",
       "      <td>741.401428</td>\n",
       "      <td>754.158325</td>\n",
       "      <td>95</td>\n",
       "    </tr>\n",
       "    <tr>\n",
       "      <th>96</th>\n",
       "      <td>741.401978</td>\n",
       "      <td>754.151855</td>\n",
       "      <td>96</td>\n",
       "    </tr>\n",
       "    <tr>\n",
       "      <th>97</th>\n",
       "      <td>741.401306</td>\n",
       "      <td>754.153442</td>\n",
       "      <td>97</td>\n",
       "    </tr>\n",
       "    <tr>\n",
       "      <th>98</th>\n",
       "      <td>741.406677</td>\n",
       "      <td>754.159424</td>\n",
       "      <td>98</td>\n",
       "    </tr>\n",
       "    <tr>\n",
       "      <th>99</th>\n",
       "      <td>741.403015</td>\n",
       "      <td>754.161499</td>\n",
       "      <td>99</td>\n",
       "    </tr>\n",
       "  </tbody>\n",
       "</table>\n",
       "</div>"
      ],
      "text/plain": [
       "          loss    val_loss  epoch\n",
       "95  741.401428  754.158325     95\n",
       "96  741.401978  754.151855     96\n",
       "97  741.401306  754.153442     97\n",
       "98  741.406677  754.159424     98\n",
       "99  741.403015  754.161499     99"
      ]
     },
     "execution_count": 79,
     "metadata": {},
     "output_type": "execute_result"
    }
   ],
   "source": [
    "hist = pd.DataFrame(history.history)\n",
    "hist['epoch'] = history.epoch\n",
    "hist.tail()\n"
   ]
  },
  {
   "cell_type": "code",
   "execution_count": 80,
   "metadata": {},
   "outputs": [],
   "source": [
    "def plot_loss(history):\n",
    "    plt.plot(history.history['loss'], label='loss')\n",
    "    plt.plot(history.history['val_loss'], label='val_loss') \n",
    "    plt.xlabel('Epoch')\n",
    "    plt.ylabel('Error [price]')\n",
    "    plt.legend()\n",
    "    plt.grid(True)\n",
    "    plt.show()\n"
   ]
  },
  {
   "cell_type": "code",
   "execution_count": 81,
   "metadata": {},
   "outputs": [
    {
     "data": {
      "image/png": "[encoded data removed]",
      "text/plain": [
       "<Figure size 432x288 with 1 Axes>"
      ]
     },
     "metadata": {
      "needs_background": "light"
     },
     "output_type": "display_data"
    }
   ],
   "source": [
    "plot_loss(history) \n"
   ]
  },
  {
   "cell_type": "markdown",
   "metadata": {},
   "source": [
    "Collect the results on the test set for later:"
   ]
  },
  {
   "cell_type": "code",
   "execution_count": 82,
   "metadata": {},
   "outputs": [],
   "source": [
    "test_results = {}\n",
    "\n",
    "test_results['carat_model'] = carat_model.evaluate(\n",
    "    test_features['carat'],\n",
    "    test_labels, verbose=0)\n"
   ]
  },
  {
   "cell_type": "markdown",
   "metadata": {},
   "source": [
    "Since this is a single variable regression, it's easy to view the model's predictions as a function of the input:"
   ]
  },
  {
   "cell_type": "code",
   "execution_count": 83,
   "metadata": {},
   "outputs": [],
   "source": [
    "x = tf.linspace(0.0, 4, 50)\n",
    "y = carat_model.predict(x)\n"
   ]
  },
  {
   "cell_type": "code",
   "execution_count": 92,
   "metadata": {},
   "outputs": [],
   "source": [
    "def plot_carat(x, y):\n",
    "    plt.figure(figsize=(15, 10))\n",
    "    plt.scatter(train_features['carat'], train_labels, label='Data')\n",
    "    plt.plot(x, y, color='k', label='Predictions')\n",
    "    plt.xlabel('carat')\n",
    "    plt.ylabel('price')\n",
    "    plt.legend()\n"
   ]
  },
  {
   "cell_type": "code",
   "execution_count": 93,
   "metadata": {},
   "outputs": [
    {
     "data": {
      "image/png": "[encoded data removed]",
      "text/plain": [
       "<Figure size 1080x720 with 1 Axes>"
      ]
     },
     "metadata": {
      "needs_background": "light"
     },
     "output_type": "display_data"
    }
   ],
   "source": [
    "plot_carat(x,y)"
   ]
  },
  {
   "cell_type": "markdown",
   "metadata": {},
   "source": [
    "### Linear regression with multiple inputs\n",
    "We use an almost identical setup to make predictions based on multiple inputs. This model still does the same `y = mx + b` except that `m` is a matrix and `b` is a vector.\n",
    "\n",
    "We create a two-step Keras Sequential model again with the first layer being normalizer (tf.keras.layers.Normalization(axis=-1)), defined earlier, and adapted to the whole dataset:"
   ]
  },
  {
   "cell_type": "code",
   "execution_count": 94,
   "metadata": {},
   "outputs": [],
   "source": [
    "linear_model = tf.keras.Sequential([\n",
    "    normalizer,\n",
    "    Dense(units=1)\n",
    "])"
   ]
  },
  {
   "cell_type": "markdown",
   "metadata": {},
   "source": [
    "Configure the model with Keras Model.compile and train with Model.fit for 100 epochs:"
   ]
  },
  {
   "cell_type": "code",
   "execution_count": 95,
   "metadata": {},
   "outputs": [],
   "source": [
    "linear_model.compile(\n",
    "    optimizer=tf.optimizers.Adam(learning_rate=0.1),\n",
    "    loss='mean_absolute_error')"
   ]
  },
  {
   "cell_type": "code",
   "execution_count": 96,
   "metadata": {},
   "outputs": [
    {
     "name": "stdout",
     "output_type": "stream",
     "text": [
      "Epoch 1/100\n",
      "680/680 [==============================] - 2s 3ms/step - loss: 3655.9158 - val_loss: 3752.4978\n",
      "Epoch 2/100\n",
      "680/680 [==============================] - 1s 2ms/step - loss: 3587.7925 - val_loss: 3685.0122\n",
      "Epoch 3/100\n",
      "680/680 [==============================] - 1s 1ms/step - loss: 3519.6392 - val_loss: 3617.5364\n",
      "Epoch 4/100\n",
      "680/680 [==============================] - 1s 1ms/step - loss: 3451.5044 - val_loss: 3550.0747\n",
      "Epoch 5/100\n",
      "680/680 [==============================] - 1s 1ms/step - loss: 3383.6069 - val_loss: 3482.6980\n",
      "Epoch 6/100\n",
      "680/680 [==============================] - 1s 2ms/step - loss: 3316.7263 - val_loss: 3414.8271\n",
      "Epoch 7/100\n",
      "680/680 [==============================] - 1s 2ms/step - loss: 3249.9233 - val_loss: 3346.4346\n",
      "Epoch 8/100\n",
      "680/680 [==============================] - 2s 3ms/step - loss: 3182.8171 - val_loss: 3277.5029\n",
      "Epoch 9/100\n",
      "680/680 [==============================] - 1s 1ms/step - loss: 3115.5090 - val_loss: 3208.3713\n",
      "Epoch 10/100\n",
      "680/680 [==============================] - 1s 1ms/step - loss: 3048.1111 - val_loss: 3139.2488\n",
      "Epoch 11/100\n",
      "680/680 [==============================] - 1s 1ms/step - loss: 2980.6543 - val_loss: 3069.9727\n",
      "Epoch 12/100\n",
      "680/680 [==============================] - 1s 1ms/step - loss: 2913.1570 - val_loss: 3000.8862\n",
      "Epoch 13/100\n",
      "680/680 [==============================] - 1s 1ms/step - loss: 2845.7292 - val_loss: 2931.5076\n",
      "Epoch 14/100\n",
      "680/680 [==============================] - 1s 2ms/step - loss: 2778.2385 - val_loss: 2862.0610\n",
      "Epoch 15/100\n",
      "680/680 [==============================] - 1s 2ms/step - loss: 2710.7446 - val_loss: 2792.8474\n",
      "Epoch 16/100\n",
      "680/680 [==============================] - 1s 2ms/step - loss: 2643.3242 - val_loss: 2723.5913\n",
      "Epoch 17/100\n",
      "680/680 [==============================] - 1s 1ms/step - loss: 2575.9473 - val_loss: 2654.1919\n",
      "Epoch 18/100\n",
      "680/680 [==============================] - 1s 1ms/step - loss: 2508.5867 - val_loss: 2584.9114\n",
      "Epoch 19/100\n",
      "680/680 [==============================] - 1s 1ms/step - loss: 2441.3123 - val_loss: 2515.6409\n",
      "Epoch 20/100\n",
      "680/680 [==============================] - 1s 2ms/step - loss: 2374.1477 - val_loss: 2446.1421\n",
      "Epoch 21/100\n",
      "680/680 [==============================] - 1s 2ms/step - loss: 2307.0215 - val_loss: 2377.1587\n",
      "Epoch 22/100\n",
      "680/680 [==============================] - 1s 1ms/step - loss: 2240.1179 - val_loss: 2308.0017\n",
      "Epoch 23/100\n",
      "680/680 [==============================] - 1s 1ms/step - loss: 2173.2664 - val_loss: 2238.6099\n",
      "Epoch 24/100\n",
      "680/680 [==============================] - 1s 1ms/step - loss: 2106.4880 - val_loss: 2169.5212\n",
      "Epoch 25/100\n",
      "680/680 [==============================] - 1s 1ms/step - loss: 2039.7833 - val_loss: 2100.2400\n",
      "Epoch 26/100\n",
      "680/680 [==============================] - 1s 1ms/step - loss: 1973.2194 - val_loss: 2031.3229\n",
      "Epoch 27/100\n",
      "680/680 [==============================] - 1s 1ms/step - loss: 1906.7734 - val_loss: 1961.9408\n",
      "Epoch 28/100\n",
      "680/680 [==============================] - 1s 1ms/step - loss: 1840.4480 - val_loss: 1893.1833\n",
      "Epoch 29/100\n",
      "680/680 [==============================] - 1s 1ms/step - loss: 1774.3179 - val_loss: 1824.3392\n",
      "Epoch 30/100\n",
      "680/680 [==============================] - 1s 1ms/step - loss: 1708.4923 - val_loss: 1756.0616\n",
      "Epoch 31/100\n",
      "680/680 [==============================] - 1s 1ms/step - loss: 1643.0779 - val_loss: 1687.7384\n",
      "Epoch 32/100\n",
      "680/680 [==============================] - 1s 1ms/step - loss: 1578.0784 - val_loss: 1619.7095\n",
      "Epoch 33/100\n",
      "680/680 [==============================] - 1s 1ms/step - loss: 1513.6910 - val_loss: 1552.5055\n",
      "Epoch 34/100\n",
      "680/680 [==============================] - 1s 1ms/step - loss: 1450.1072 - val_loss: 1485.9321\n",
      "Epoch 35/100\n",
      "680/680 [==============================] - 1s 1ms/step - loss: 1387.6414 - val_loss: 1420.7620\n",
      "Epoch 36/100\n",
      "680/680 [==============================] - 1s 1ms/step - loss: 1326.7954 - val_loss: 1357.4902\n",
      "Epoch 37/100\n",
      "680/680 [==============================] - 1s 1ms/step - loss: 1267.9464 - val_loss: 1297.3337\n",
      "Epoch 38/100\n",
      "680/680 [==============================] - 1s 1ms/step - loss: 1212.1592 - val_loss: 1240.1311\n",
      "Epoch 39/100\n",
      "680/680 [==============================] - 1s 1ms/step - loss: 1159.4653 - val_loss: 1185.7764\n",
      "Epoch 40/100\n",
      "680/680 [==============================] - 1s 1ms/step - loss: 1110.6816 - val_loss: 1135.6639\n",
      "Epoch 41/100\n",
      "680/680 [==============================] - 1s 1ms/step - loss: 1065.7688 - val_loss: 1089.4839\n",
      "Epoch 42/100\n",
      "680/680 [==============================] - 1s 1ms/step - loss: 1024.6193 - val_loss: 1046.7629\n",
      "Epoch 43/100\n",
      "680/680 [==============================] - 1s 1ms/step - loss: 987.4117 - val_loss: 1008.5383\n",
      "Epoch 44/100\n",
      "680/680 [==============================] - 1s 1ms/step - loss: 954.4944 - val_loss: 975.2286\n",
      "Epoch 45/100\n",
      "680/680 [==============================] - 1s 1ms/step - loss: 926.0601 - val_loss: 946.7548\n",
      "Epoch 46/100\n",
      "680/680 [==============================] - 1s 1ms/step - loss: 902.0837 - val_loss: 922.4924\n",
      "Epoch 47/100\n",
      "680/680 [==============================] - 1s 1ms/step - loss: 882.1350 - val_loss: 902.1873\n",
      "Epoch 48/100\n",
      "680/680 [==============================] - 1s 1ms/step - loss: 865.2507 - val_loss: 885.1498\n",
      "Epoch 49/100\n",
      "680/680 [==============================] - 1s 2ms/step - loss: 851.3129 - val_loss: 871.3288\n",
      "Epoch 50/100\n",
      "680/680 [==============================] - 2s 2ms/step - loss: 839.8373 - val_loss: 859.7317\n",
      "Epoch 51/100\n",
      "680/680 [==============================] - 1s 1ms/step - loss: 830.3541 - val_loss: 850.0905\n",
      "Epoch 52/100\n",
      "680/680 [==============================] - 1s 1ms/step - loss: 822.6216 - val_loss: 842.3948\n",
      "Epoch 53/100\n",
      "680/680 [==============================] - 1s 1ms/step - loss: 816.2200 - val_loss: 835.8175\n",
      "Epoch 54/100\n",
      "680/680 [==============================] - 1s 1ms/step - loss: 810.8654 - val_loss: 830.1230\n",
      "Epoch 55/100\n",
      "680/680 [==============================] - 1s 1ms/step - loss: 806.2330 - val_loss: 825.2064\n",
      "Epoch 56/100\n",
      "680/680 [==============================] - 1s 1ms/step - loss: 802.0986 - val_loss: 820.7512\n",
      "Epoch 57/100\n",
      "680/680 [==============================] - 1s 1ms/step - loss: 798.3958 - val_loss: 816.6949\n",
      "Epoch 58/100\n",
      "680/680 [==============================] - 1s 1ms/step - loss: 795.0089 - val_loss: 812.9866\n",
      "Epoch 59/100\n",
      "680/680 [==============================] - 1s 1ms/step - loss: 791.8055 - val_loss: 809.5333\n",
      "Epoch 60/100\n",
      "680/680 [==============================] - 1s 1ms/step - loss: 788.7635 - val_loss: 806.3184\n",
      "Epoch 61/100\n",
      "680/680 [==============================] - 1s 1ms/step - loss: 785.8393 - val_loss: 803.0660\n",
      "Epoch 62/100\n",
      "680/680 [==============================] - 1s 1ms/step - loss: 782.9819 - val_loss: 800.1299\n",
      "Epoch 63/100\n",
      "680/680 [==============================] - 1s 1ms/step - loss: 780.1977 - val_loss: 797.4242\n",
      "Epoch 64/100\n",
      "680/680 [==============================] - 1s 1ms/step - loss: 777.4548 - val_loss: 794.4709\n",
      "Epoch 65/100\n",
      "680/680 [==============================] - 1s 1ms/step - loss: 774.7542 - val_loss: 791.7726\n",
      "Epoch 66/100\n",
      "680/680 [==============================] - 1s 1ms/step - loss: 772.1304 - val_loss: 788.9189\n",
      "Epoch 67/100\n",
      "680/680 [==============================] - 1s 1ms/step - loss: 769.4297 - val_loss: 786.0900\n",
      "Epoch 68/100\n",
      "680/680 [==============================] - 1s 1ms/step - loss: 766.7700 - val_loss: 783.3639\n",
      "Epoch 69/100\n",
      "680/680 [==============================] - 1s 1ms/step - loss: 764.1231 - val_loss: 780.6750\n",
      "Epoch 70/100\n",
      "680/680 [==============================] - 1s 1ms/step - loss: 761.4467 - val_loss: 777.8770\n",
      "Epoch 71/100\n",
      "680/680 [==============================] - 1s 2ms/step - loss: 758.8060 - val_loss: 775.1250\n",
      "Epoch 72/100\n",
      "680/680 [==============================] - 1s 2ms/step - loss: 756.1684 - val_loss: 772.5413\n",
      "Epoch 73/100\n",
      "680/680 [==============================] - 1s 1ms/step - loss: 753.5963 - val_loss: 769.6673\n",
      "Epoch 74/100\n",
      "680/680 [==============================] - 1s 1ms/step - loss: 751.0380 - val_loss: 767.1349\n",
      "Epoch 75/100\n",
      "680/680 [==============================] - 1s 1ms/step - loss: 748.4573 - val_loss: 764.2859\n",
      "Epoch 76/100\n",
      "680/680 [==============================] - 1s 1ms/step - loss: 745.9467 - val_loss: 761.8484\n",
      "Epoch 77/100\n",
      "680/680 [==============================] - 1s 1ms/step - loss: 743.4076 - val_loss: 759.2372\n",
      "Epoch 78/100\n",
      "680/680 [==============================] - 1s 1ms/step - loss: 740.9376 - val_loss: 756.7318\n",
      "Epoch 79/100\n",
      "680/680 [==============================] - 1s 1ms/step - loss: 738.4104 - val_loss: 754.0403\n",
      "Epoch 80/100\n",
      "680/680 [==============================] - 1s 1ms/step - loss: 735.9279 - val_loss: 751.5140\n",
      "Epoch 81/100\n",
      "680/680 [==============================] - 1s 1ms/step - loss: 733.4549 - val_loss: 749.0567\n",
      "Epoch 82/100\n",
      "680/680 [==============================] - 1s 1ms/step - loss: 730.9598 - val_loss: 746.3619\n",
      "Epoch 83/100\n",
      "680/680 [==============================] - 1s 1ms/step - loss: 728.5009 - val_loss: 744.0286\n",
      "Epoch 84/100\n",
      "680/680 [==============================] - 1s 1ms/step - loss: 726.0750 - val_loss: 741.4277\n",
      "Epoch 85/100\n",
      "680/680 [==============================] - 1s 1ms/step - loss: 723.6436 - val_loss: 738.9350\n",
      "Epoch 86/100\n",
      "680/680 [==============================] - 1s 1ms/step - loss: 721.2534 - val_loss: 736.3995\n",
      "Epoch 87/100\n",
      "680/680 [==============================] - 1s 2ms/step - loss: 718.8177 - val_loss: 734.1132\n",
      "Epoch 88/100\n",
      "680/680 [==============================] - 1s 1ms/step - loss: 716.4370 - val_loss: 731.6335\n",
      "Epoch 89/100\n",
      "680/680 [==============================] - 1s 1ms/step - loss: 714.0550 - val_loss: 729.0701\n",
      "Epoch 90/100\n",
      "680/680 [==============================] - 1s 1ms/step - loss: 711.6590 - val_loss: 726.6105\n",
      "Epoch 91/100\n",
      "680/680 [==============================] - 1s 1ms/step - loss: 709.2739 - val_loss: 724.1536\n",
      "Epoch 92/100\n",
      "680/680 [==============================] - 1s 1ms/step - loss: 706.8620 - val_loss: 721.5983\n",
      "Epoch 93/100\n",
      "680/680 [==============================] - 1s 1ms/step - loss: 704.4927 - val_loss: 719.2188\n",
      "Epoch 94/100\n",
      "680/680 [==============================] - 1s 1ms/step - loss: 702.1822 - val_loss: 716.6926\n",
      "Epoch 95/100\n",
      "680/680 [==============================] - 1s 1ms/step - loss: 699.8919 - val_loss: 714.4728\n",
      "Epoch 96/100\n",
      "680/680 [==============================] - 1s 1ms/step - loss: 697.6035 - val_loss: 711.9548\n",
      "Epoch 97/100\n",
      "680/680 [==============================] - 1s 1ms/step - loss: 695.2873 - val_loss: 709.8014\n",
      "Epoch 98/100\n",
      "680/680 [==============================] - 1s 1ms/step - loss: 692.9768 - val_loss: 707.5546\n",
      "Epoch 99/100\n",
      "680/680 [==============================] - 1s 1ms/step - loss: 690.6967 - val_loss: 705.0256\n",
      "Epoch 100/100\n",
      "680/680 [==============================] - 1s 1ms/step - loss: 688.3933 - val_loss: 702.6270\n"
     ]
    }
   ],
   "source": [
    "history = linear_model.fit(\n",
    "    train_features,\n",
    "    train_labels,\n",
    "    epochs=100,\n",
    "    # Calculate validation results on 20% of the training data.\n",
    "    validation_split=0.2)\n"
   ]
  },
  {
   "cell_type": "code",
   "execution_count": 97,
   "metadata": {},
   "outputs": [
    {
     "data": {
      "image/png": "[encoded data removed]",
      "text/plain": [
       "<Figure size 432x288 with 1 Axes>"
      ]
     },
     "metadata": {
      "needs_background": "light"
     },
     "output_type": "display_data"
    }
   ],
   "source": [
    "plot_loss(history)\n"
   ]
  },
  {
   "cell_type": "code",
   "execution_count": 98,
   "metadata": {},
   "outputs": [],
   "source": [
    "test_results['linear_model'] = linear_model.evaluate(\n",
    "    test_features, test_labels, verbose=0)\n"
   ]
  },
  {
   "cell_type": "markdown",
   "metadata": {},
   "source": [
    "## Regression with a deep neural network (DNN)\n",
    "\n",
    "Now, we will implement single-input and multiple-input DNN models.\n",
    "\n",
    "The code is basically the same except the model is expanded to include some \"hidden\" non-linear layers. The name \"hidden\" here just means not directly connected to the inputs or outputs.\n",
    "\n",
    "These models will contain a few more layers than the linear model:\n",
    "\n",
    "* The normalization layer, as before (with carat_normalizer for a single-input model and normalizer for a multiple-input model).\n",
    "* Two hidden, non-linear, Dense layers with the ReLU (relu) activation function nonlinearity.\n",
    "* A linear Dense single-output layer.\n",
    "\n",
    "Both models will use the same training procedure so the compile method is included in the build_and_compile_model function below."
   ]
  },
  {
   "cell_type": "code",
   "execution_count": 99,
   "metadata": {},
   "outputs": [],
   "source": [
    "def build_and_compile_model(norm):\n",
    "    model = tf.keras.Sequential([\n",
    "        norm,\n",
    "        Dense(64, activation='relu'),\n",
    "        Dense(64, activation='relu'),\n",
    "        Dense(1)\n",
    "    ])\n",
    "\n",
    "    model.compile(loss='mean_absolute_error',\n",
    "                optimizer=tf.keras.optimizers.Adam(0.001))\n",
    "    return model\n"
   ]
  },
  {
   "cell_type": "markdown",
   "metadata": {},
   "source": [
    "### Regression using a DNN and a single input\n",
    "Create a DNN model with only `carat` as input and `carat_normalizer` (defined earlier) as the normalization layer:"
   ]
  },
  {
   "cell_type": "code",
   "execution_count": 100,
   "metadata": {},
   "outputs": [],
   "source": [
    "dnn_carat_model = build_and_compile_model(carat_normalizer)\n"
   ]
  },
  {
   "cell_type": "markdown",
   "metadata": {},
   "source": [
    "This model has quite a few more trainable parameters than the linear models:"
   ]
  },
  {
   "cell_type": "code",
   "execution_count": 101,
   "metadata": {},
   "outputs": [
    {
     "name": "stdout",
     "output_type": "stream",
     "text": [
      "Model: \"sequential_2\"\n",
      "_________________________________________________________________\n",
      " Layer (type)                Output Shape              Param #   \n",
      "=================================================================\n",
      " normalization_2 (Normalizat  (None, 1)                3         \n",
      " ion)                                                            \n",
      "                                                                 \n",
      " dense_2 (Dense)             (None, 64)                128       \n",
      "                                                                 \n",
      " dense_3 (Dense)             (None, 64)                4160      \n",
      "                                                                 \n",
      " dense_4 (Dense)             (None, 1)                 65        \n",
      "                                                                 \n",
      "=================================================================\n",
      "Total params: 4,356\n",
      "Trainable params: 4,353\n",
      "Non-trainable params: 3\n",
      "_________________________________________________________________\n"
     ]
    }
   ],
   "source": [
    "dnn_carat_model.summary()"
   ]
  },
  {
   "cell_type": "markdown",
   "metadata": {},
   "source": [
    "Train the model with Keras Model.fit:"
   ]
  },
  {
   "cell_type": "code",
   "execution_count": 102,
   "metadata": {},
   "outputs": [
    {
     "name": "stdout",
     "output_type": "stream",
     "text": [
      "Epoch 1/100\n",
      "680/680 [==============================] - 2s 2ms/step - loss: 2947.2307 - val_loss: 1217.6450\n",
      "Epoch 2/100\n",
      "680/680 [==============================] - 2s 2ms/step - loss: 701.0593 - val_loss: 671.6646\n",
      "Epoch 3/100\n",
      "680/680 [==============================] - 2s 2ms/step - loss: 656.2385 - val_loss: 672.6628\n",
      "Epoch 4/100\n",
      "680/680 [==============================] - 2s 2ms/step - loss: 654.6115 - val_loss: 668.6214\n",
      "Epoch 5/100\n",
      "680/680 [==============================] - 2s 2ms/step - loss: 652.9515 - val_loss: 669.2366\n",
      "Epoch 6/100\n",
      "680/680 [==============================] - 2s 3ms/step - loss: 648.9518 - val_loss: 661.6861\n",
      "Epoch 7/100\n",
      "680/680 [==============================] - 2s 2ms/step - loss: 642.5068 - val_loss: 654.1884\n",
      "Epoch 8/100\n",
      "680/680 [==============================] - 2s 3ms/step - loss: 634.1464 - val_loss: 645.6691\n",
      "Epoch 9/100\n",
      "680/680 [==============================] - 2s 3ms/step - loss: 627.1179 - val_loss: 640.0326\n",
      "Epoch 10/100\n",
      "680/680 [==============================] - 2s 3ms/step - loss: 621.9909 - val_loss: 636.0085\n",
      "Epoch 11/100\n",
      "680/680 [==============================] - 2s 3ms/step - loss: 618.3216 - val_loss: 633.0828\n",
      "Epoch 12/100\n",
      "680/680 [==============================] - 2s 2ms/step - loss: 615.9232 - val_loss: 631.0202\n",
      "Epoch 13/100\n",
      "680/680 [==============================] - 2s 2ms/step - loss: 614.0601 - val_loss: 630.0180\n",
      "Epoch 14/100\n",
      "680/680 [==============================] - 2s 3ms/step - loss: 613.0120 - val_loss: 633.5994\n",
      "Epoch 15/100\n",
      "680/680 [==============================] - 2s 3ms/step - loss: 612.0612 - val_loss: 628.3320\n",
      "Epoch 16/100\n",
      "680/680 [==============================] - 2s 2ms/step - loss: 611.5100 - val_loss: 629.4316\n",
      "Epoch 17/100\n",
      "680/680 [==============================] - 2s 2ms/step - loss: 611.2474 - val_loss: 628.5273\n",
      "Epoch 18/100\n",
      "680/680 [==============================] - 2s 2ms/step - loss: 611.1350 - val_loss: 628.2613\n",
      "Epoch 19/100\n",
      "680/680 [==============================] - 2s 2ms/step - loss: 611.0690 - val_loss: 629.0518\n",
      "Epoch 20/100\n",
      "680/680 [==============================] - 1s 2ms/step - loss: 610.7208 - val_loss: 628.2963\n",
      "Epoch 21/100\n",
      "680/680 [==============================] - 1s 2ms/step - loss: 610.6986 - val_loss: 628.9119\n",
      "Epoch 22/100\n",
      "680/680 [==============================] - 1s 2ms/step - loss: 610.4911 - val_loss: 628.6086\n",
      "Epoch 23/100\n",
      "680/680 [==============================] - 1s 2ms/step - loss: 610.8044 - val_loss: 628.7872\n",
      "Epoch 24/100\n",
      "680/680 [==============================] - 1s 2ms/step - loss: 610.7896 - val_loss: 628.3834\n",
      "Epoch 25/100\n",
      "680/680 [==============================] - 1s 2ms/step - loss: 610.7861 - val_loss: 628.6736\n",
      "Epoch 26/100\n",
      "680/680 [==============================] - 1s 2ms/step - loss: 610.7265 - val_loss: 628.6805\n",
      "Epoch 27/100\n",
      "680/680 [==============================] - 1s 2ms/step - loss: 610.7642 - val_loss: 628.3505\n",
      "Epoch 28/100\n",
      "680/680 [==============================] - 2s 2ms/step - loss: 610.7048 - val_loss: 629.6406\n",
      "Epoch 29/100\n",
      "680/680 [==============================] - 1s 2ms/step - loss: 610.9460 - val_loss: 629.3922\n",
      "Epoch 30/100\n",
      "680/680 [==============================] - 1s 2ms/step - loss: 610.5944 - val_loss: 628.4866\n",
      "Epoch 31/100\n",
      "680/680 [==============================] - 1s 2ms/step - loss: 610.7933 - val_loss: 629.0293\n",
      "Epoch 32/100\n",
      "680/680 [==============================] - 1s 2ms/step - loss: 610.6561 - val_loss: 628.8621\n",
      "Epoch 33/100\n",
      "680/680 [==============================] - 1s 2ms/step - loss: 610.6791 - val_loss: 629.0792\n",
      "Epoch 34/100\n",
      "680/680 [==============================] - 1s 2ms/step - loss: 610.6979 - val_loss: 628.6186\n",
      "Epoch 35/100\n",
      "680/680 [==============================] - 1s 2ms/step - loss: 610.6358 - val_loss: 628.4299\n",
      "Epoch 36/100\n",
      "680/680 [==============================] - 1s 2ms/step - loss: 610.6512 - val_loss: 628.4918\n",
      "Epoch 37/100\n",
      "680/680 [==============================] - 1s 2ms/step - loss: 610.8670 - val_loss: 628.3262\n",
      "Epoch 38/100\n",
      "680/680 [==============================] - 1s 2ms/step - loss: 610.5540 - val_loss: 628.8547\n",
      "Epoch 39/100\n",
      "680/680 [==============================] - 1s 1ms/step - loss: 610.7653 - val_loss: 629.1931\n",
      "Epoch 40/100\n",
      "680/680 [==============================] - 1s 2ms/step - loss: 610.6348 - val_loss: 628.6650\n",
      "Epoch 41/100\n",
      "680/680 [==============================] - 1s 2ms/step - loss: 610.6631 - val_loss: 629.4718\n",
      "Epoch 42/100\n",
      "680/680 [==============================] - 1s 2ms/step - loss: 610.5657 - val_loss: 629.2855\n",
      "Epoch 43/100\n",
      "680/680 [==============================] - 1s 1ms/step - loss: 610.7784 - val_loss: 629.8635\n",
      "Epoch 44/100\n",
      "680/680 [==============================] - 1s 2ms/step - loss: 611.0671 - val_loss: 629.1315\n",
      "Epoch 45/100\n",
      "680/680 [==============================] - 1s 1ms/step - loss: 610.8339 - val_loss: 628.4061\n",
      "Epoch 46/100\n",
      "680/680 [==============================] - 1s 2ms/step - loss: 610.7342 - val_loss: 628.6273\n",
      "Epoch 47/100\n",
      "680/680 [==============================] - 1s 2ms/step - loss: 610.6063 - val_loss: 628.4523\n",
      "Epoch 48/100\n",
      "680/680 [==============================] - 2s 2ms/step - loss: 610.6370 - val_loss: 628.7196\n",
      "Epoch 49/100\n",
      "680/680 [==============================] - 1s 2ms/step - loss: 610.7719 - val_loss: 628.2764\n",
      "Epoch 50/100\n",
      "680/680 [==============================] - 1s 2ms/step - loss: 610.4359 - val_loss: 629.4898\n",
      "Epoch 51/100\n",
      "680/680 [==============================] - 1s 1ms/step - loss: 610.9577 - val_loss: 628.4706\n",
      "Epoch 52/100\n",
      "680/680 [==============================] - 1s 2ms/step - loss: 610.7205 - val_loss: 628.3338\n",
      "Epoch 53/100\n",
      "680/680 [==============================] - 1s 2ms/step - loss: 610.8234 - val_loss: 628.6862\n",
      "Epoch 54/100\n",
      "680/680 [==============================] - 1s 2ms/step - loss: 610.7839 - val_loss: 629.0818\n",
      "Epoch 55/100\n",
      "680/680 [==============================] - 2s 2ms/step - loss: 610.5891 - val_loss: 628.9427\n",
      "Epoch 56/100\n",
      "680/680 [==============================] - 1s 2ms/step - loss: 610.6555 - val_loss: 629.0130\n",
      "Epoch 57/100\n",
      "680/680 [==============================] - 1s 2ms/step - loss: 610.4606 - val_loss: 630.8063\n",
      "Epoch 58/100\n",
      "680/680 [==============================] - 1s 2ms/step - loss: 610.7885 - val_loss: 628.5710\n",
      "Epoch 59/100\n",
      "680/680 [==============================] - 1s 2ms/step - loss: 610.5331 - val_loss: 630.0565\n",
      "Epoch 60/100\n",
      "680/680 [==============================] - 1s 2ms/step - loss: 610.5455 - val_loss: 628.5408\n",
      "Epoch 61/100\n",
      "680/680 [==============================] - 1s 2ms/step - loss: 610.8203 - val_loss: 629.1991\n",
      "Epoch 62/100\n",
      "680/680 [==============================] - 1s 2ms/step - loss: 610.5355 - val_loss: 628.3497\n",
      "Epoch 63/100\n",
      "680/680 [==============================] - 1s 2ms/step - loss: 610.2729 - val_loss: 629.5656\n",
      "Epoch 64/100\n",
      "680/680 [==============================] - 1s 2ms/step - loss: 610.5693 - val_loss: 628.7811\n",
      "Epoch 65/100\n",
      "680/680 [==============================] - 1s 2ms/step - loss: 610.9273 - val_loss: 628.3665\n",
      "Epoch 66/100\n",
      "680/680 [==============================] - 1s 2ms/step - loss: 610.6739 - val_loss: 628.4201\n",
      "Epoch 67/100\n",
      "680/680 [==============================] - 1s 2ms/step - loss: 610.3282 - val_loss: 628.7545\n",
      "Epoch 68/100\n",
      "680/680 [==============================] - 1s 2ms/step - loss: 610.5477 - val_loss: 628.6245\n",
      "Epoch 69/100\n",
      "680/680 [==============================] - 1s 2ms/step - loss: 610.4557 - val_loss: 628.9645\n",
      "Epoch 70/100\n",
      "680/680 [==============================] - 1s 2ms/step - loss: 610.6451 - val_loss: 628.3915\n",
      "Epoch 71/100\n",
      "680/680 [==============================] - 1s 2ms/step - loss: 610.7791 - val_loss: 628.4723\n",
      "Epoch 72/100\n",
      "680/680 [==============================] - 1s 2ms/step - loss: 610.5620 - val_loss: 628.6323\n",
      "Epoch 73/100\n",
      "680/680 [==============================] - 1s 2ms/step - loss: 610.5283 - val_loss: 628.2201\n",
      "Epoch 74/100\n",
      "680/680 [==============================] - 1s 2ms/step - loss: 610.5447 - val_loss: 628.3846\n",
      "Epoch 75/100\n",
      "680/680 [==============================] - 1s 2ms/step - loss: 610.5641 - val_loss: 628.4366\n",
      "Epoch 76/100\n",
      "680/680 [==============================] - 1s 2ms/step - loss: 610.6851 - val_loss: 628.9619\n",
      "Epoch 77/100\n",
      "680/680 [==============================] - 1s 2ms/step - loss: 610.7139 - val_loss: 628.4019\n",
      "Epoch 78/100\n",
      "680/680 [==============================] - 1s 2ms/step - loss: 610.6660 - val_loss: 628.7800\n",
      "Epoch 79/100\n",
      "680/680 [==============================] - 1s 2ms/step - loss: 610.3365 - val_loss: 628.3497\n",
      "Epoch 80/100\n",
      "680/680 [==============================] - 1s 2ms/step - loss: 610.7051 - val_loss: 628.2936\n",
      "Epoch 81/100\n",
      "680/680 [==============================] - 1s 2ms/step - loss: 610.6288 - val_loss: 628.6597\n",
      "Epoch 82/100\n",
      "680/680 [==============================] - 1s 2ms/step - loss: 610.7789 - val_loss: 628.3019\n",
      "Epoch 83/100\n",
      "680/680 [==============================] - 1s 2ms/step - loss: 610.5444 - val_loss: 629.3268\n",
      "Epoch 84/100\n",
      "680/680 [==============================] - 1s 2ms/step - loss: 610.4534 - val_loss: 631.1551\n",
      "Epoch 85/100\n",
      "680/680 [==============================] - 1s 2ms/step - loss: 610.5763 - val_loss: 628.2672\n",
      "Epoch 86/100\n",
      "680/680 [==============================] - 1s 2ms/step - loss: 610.4928 - val_loss: 628.4362\n",
      "Epoch 87/100\n",
      "680/680 [==============================] - 1s 2ms/step - loss: 610.6345 - val_loss: 629.3380\n",
      "Epoch 88/100\n",
      "680/680 [==============================] - 1s 2ms/step - loss: 610.4836 - val_loss: 630.3683\n",
      "Epoch 89/100\n",
      "680/680 [==============================] - 1s 2ms/step - loss: 610.5731 - val_loss: 630.7195\n",
      "Epoch 90/100\n",
      "680/680 [==============================] - 1s 2ms/step - loss: 610.4808 - val_loss: 628.6678\n",
      "Epoch 91/100\n",
      "680/680 [==============================] - 1s 2ms/step - loss: 610.4536 - val_loss: 628.3729\n",
      "Epoch 92/100\n",
      "680/680 [==============================] - 1s 2ms/step - loss: 610.8299 - val_loss: 629.4423\n",
      "Epoch 93/100\n",
      "680/680 [==============================] - 1s 2ms/step - loss: 610.4993 - val_loss: 628.3563\n",
      "Epoch 94/100\n",
      "680/680 [==============================] - 1s 2ms/step - loss: 610.6445 - val_loss: 628.3084\n",
      "Epoch 95/100\n",
      "680/680 [==============================] - 1s 2ms/step - loss: 610.4843 - val_loss: 628.4269\n",
      "Epoch 96/100\n",
      "680/680 [==============================] - 1s 2ms/step - loss: 610.5878 - val_loss: 629.0389\n",
      "Epoch 97/100\n",
      "680/680 [==============================] - 1s 2ms/step - loss: 610.5674 - val_loss: 628.1915\n",
      "Epoch 98/100\n",
      "680/680 [==============================] - 2s 3ms/step - loss: 610.6829 - val_loss: 629.0713\n",
      "Epoch 99/100\n",
      "680/680 [==============================] - 2s 2ms/step - loss: 610.6597 - val_loss: 628.2352\n",
      "Epoch 100/100\n",
      "680/680 [==============================] - 1s 2ms/step - loss: 610.7173 - val_loss: 628.3810\n"
     ]
    }
   ],
   "source": [
    "history = dnn_carat_model.fit(\n",
    "    train_features['carat'],\n",
    "    train_labels,\n",
    "    validation_split=0.2,\n",
    "    epochs=100)"
   ]
  },
  {
   "cell_type": "code",
   "execution_count": 103,
   "metadata": {},
   "outputs": [
    {
     "data": {
      "image/png": "[encoded data removed]",
      "text/plain": [
       "<Figure size 432x288 with 1 Axes>"
      ]
     },
     "metadata": {
      "needs_background": "light"
     },
     "output_type": "display_data"
    }
   ],
   "source": [
    "plot_loss(history)"
   ]
  },
  {
   "cell_type": "markdown",
   "metadata": {},
   "source": [
    "If you plot the predictions as a function of 'Horsepower', you should notice how this model takes advantage of the nonlinearity provided by the hidden layers:"
   ]
  },
  {
   "cell_type": "code",
   "execution_count": 104,
   "metadata": {},
   "outputs": [],
   "source": [
    "x = tf.linspace(0.0, 4, 50)\n",
    "y = dnn_carat_model.predict(x)"
   ]
  },
  {
   "cell_type": "code",
   "execution_count": 105,
   "metadata": {},
   "outputs": [
    {
     "data": {
      "image/png": "[encoded data removed]",
      "text/plain": [
       "<Figure size 1080x720 with 1 Axes>"
      ]
     },
     "metadata": {
      "needs_background": "light"
     },
     "output_type": "display_data"
    }
   ],
   "source": [
    "plot_carat(x, y)"
   ]
  },
  {
   "cell_type": "code",
   "execution_count": 106,
   "metadata": {},
   "outputs": [],
   "source": [
    "test_results['dnn_carat_model'] = dnn_carat_model.evaluate(\n",
    "    test_features['carat'], test_labels,\n",
    "    verbose=0)"
   ]
  },
  {
   "cell_type": "markdown",
   "metadata": {},
   "source": [
    "### Regression using a DNN and multiple inputs\n",
    "Now we repeate the previous process using all the inputs. This will be the model with the least error, and the heighest performance."
   ]
  },
  {
   "cell_type": "code",
   "execution_count": 107,
   "metadata": {},
   "outputs": [
    {
     "name": "stdout",
     "output_type": "stream",
     "text": [
      "Model: \"sequential_3\"\n",
      "_________________________________________________________________\n",
      " Layer (type)                Output Shape              Param #   \n",
      "=================================================================\n",
      " normalization_1 (Normalizat  (None, 26)               53        \n",
      " ion)                                                            \n",
      "                                                                 \n",
      " dense_5 (Dense)             (None, 64)                1728      \n",
      "                                                                 \n",
      " dense_6 (Dense)             (None, 64)                4160      \n",
      "                                                                 \n",
      " dense_7 (Dense)             (None, 1)                 65        \n",
      "                                                                 \n",
      "=================================================================\n",
      "Total params: 6,006\n",
      "Trainable params: 5,953\n",
      "Non-trainable params: 53\n",
      "_________________________________________________________________\n"
     ]
    }
   ],
   "source": [
    "dnn_model = build_and_compile_model(normalizer)\n",
    "dnn_model.summary()"
   ]
  },
  {
   "cell_type": "code",
   "execution_count": 108,
   "metadata": {},
   "outputs": [
    {
     "name": "stdout",
     "output_type": "stream",
     "text": [
      "Epoch 1/100\n",
      "680/680 [==============================] - 2s 2ms/step - loss: 2373.0701 - val_loss: 602.7947\n",
      "Epoch 2/100\n",
      "680/680 [==============================] - 2s 2ms/step - loss: 426.6758 - val_loss: 398.6442\n",
      "Epoch 3/100\n",
      "680/680 [==============================] - 2s 2ms/step - loss: 369.6849 - val_loss: 371.6504\n",
      "Epoch 4/100\n",
      "680/680 [==============================] - 2s 2ms/step - loss: 347.4308 - val_loss: 353.6231\n",
      "Epoch 5/100\n",
      "680/680 [==============================] - 2s 3ms/step - loss: 332.5948 - val_loss: 340.2848\n",
      "Epoch 6/100\n",
      "680/680 [==============================] - 2s 3ms/step - loss: 322.0063 - val_loss: 331.0986\n",
      "Epoch 7/100\n",
      "680/680 [==============================] - 2s 2ms/step - loss: 314.0320 - val_loss: 322.8036\n",
      "Epoch 8/100\n",
      "680/680 [==============================] - 2s 3ms/step - loss: 307.5008 - val_loss: 317.1478\n",
      "Epoch 9/100\n",
      "680/680 [==============================] - 1s 2ms/step - loss: 302.3612 - val_loss: 317.8089\n",
      "Epoch 10/100\n",
      "680/680 [==============================] - 1s 2ms/step - loss: 298.6235 - val_loss: 308.4685\n",
      "Epoch 11/100\n",
      "680/680 [==============================] - 1s 2ms/step - loss: 294.7719 - val_loss: 304.6292\n",
      "Epoch 12/100\n",
      "680/680 [==============================] - 1s 2ms/step - loss: 292.3962 - val_loss: 302.0484\n",
      "Epoch 13/100\n",
      "680/680 [==============================] - 1s 2ms/step - loss: 290.0934 - val_loss: 298.1299\n",
      "Epoch 14/100\n",
      "680/680 [==============================] - 1s 2ms/step - loss: 287.7337 - val_loss: 298.4438\n",
      "Epoch 15/100\n",
      "680/680 [==============================] - 1s 2ms/step - loss: 285.9946 - val_loss: 295.9122\n",
      "Epoch 16/100\n",
      "680/680 [==============================] - 1s 2ms/step - loss: 285.0503 - val_loss: 293.9500\n",
      "Epoch 17/100\n",
      "680/680 [==============================] - 1s 2ms/step - loss: 283.5711 - val_loss: 292.2038\n",
      "Epoch 18/100\n",
      "680/680 [==============================] - 1s 2ms/step - loss: 282.3306 - val_loss: 293.1534\n",
      "Epoch 19/100\n",
      "680/680 [==============================] - 1s 2ms/step - loss: 281.2896 - val_loss: 290.9536\n",
      "Epoch 20/100\n",
      "680/680 [==============================] - 1s 2ms/step - loss: 280.5294 - val_loss: 291.2992\n",
      "Epoch 21/100\n",
      "680/680 [==============================] - 1s 2ms/step - loss: 279.5797 - val_loss: 289.0328\n",
      "Epoch 22/100\n",
      "680/680 [==============================] - 1s 2ms/step - loss: 278.9515 - val_loss: 287.4019\n",
      "Epoch 23/100\n",
      "680/680 [==============================] - 1s 2ms/step - loss: 278.8188 - val_loss: 287.7957\n",
      "Epoch 24/100\n",
      "680/680 [==============================] - 1s 2ms/step - loss: 277.5865 - val_loss: 286.5067\n",
      "Epoch 25/100\n",
      "680/680 [==============================] - 1s 2ms/step - loss: 277.1254 - val_loss: 286.2952\n",
      "Epoch 26/100\n",
      "680/680 [==============================] - 1s 2ms/step - loss: 276.6063 - val_loss: 288.1949\n",
      "Epoch 27/100\n",
      "680/680 [==============================] - 1s 2ms/step - loss: 276.1904 - val_loss: 284.6129\n",
      "Epoch 28/100\n",
      "680/680 [==============================] - 1s 2ms/step - loss: 275.5981 - val_loss: 283.9606\n",
      "Epoch 29/100\n",
      "680/680 [==============================] - 1s 2ms/step - loss: 275.0630 - val_loss: 287.2454\n",
      "Epoch 30/100\n",
      "680/680 [==============================] - 1s 2ms/step - loss: 274.7988 - val_loss: 284.3596\n",
      "Epoch 31/100\n",
      "680/680 [==============================] - 1s 2ms/step - loss: 274.4370 - val_loss: 283.7008\n",
      "Epoch 32/100\n",
      "680/680 [==============================] - 1s 2ms/step - loss: 273.8293 - val_loss: 284.1275\n",
      "Epoch 33/100\n",
      "680/680 [==============================] - 1s 1ms/step - loss: 273.6172 - val_loss: 283.9215\n",
      "Epoch 34/100\n",
      "680/680 [==============================] - 1s 2ms/step - loss: 273.6010 - val_loss: 285.7299\n",
      "Epoch 35/100\n",
      "680/680 [==============================] - 1s 2ms/step - loss: 273.3000 - val_loss: 283.5325\n",
      "Epoch 36/100\n",
      "680/680 [==============================] - 1s 2ms/step - loss: 272.6611 - val_loss: 283.1240\n",
      "Epoch 37/100\n",
      "680/680 [==============================] - 1s 2ms/step - loss: 272.9497 - val_loss: 281.2865\n",
      "Epoch 38/100\n",
      "680/680 [==============================] - 1s 1ms/step - loss: 272.4377 - val_loss: 281.0976\n",
      "Epoch 39/100\n",
      "680/680 [==============================] - 1s 1ms/step - loss: 271.9630 - val_loss: 280.3134\n",
      "Epoch 40/100\n",
      "680/680 [==============================] - 1s 2ms/step - loss: 271.8259 - val_loss: 280.8115\n",
      "Epoch 41/100\n",
      "680/680 [==============================] - 1s 1ms/step - loss: 271.6173 - val_loss: 281.6717\n",
      "Epoch 42/100\n",
      "680/680 [==============================] - 1s 2ms/step - loss: 271.4462 - val_loss: 280.0021\n",
      "Epoch 43/100\n",
      "680/680 [==============================] - 1s 2ms/step - loss: 271.2365 - val_loss: 281.8615\n",
      "Epoch 44/100\n",
      "680/680 [==============================] - 1s 1ms/step - loss: 270.8282 - val_loss: 280.3463\n",
      "Epoch 45/100\n",
      "680/680 [==============================] - 1s 1ms/step - loss: 270.9070 - val_loss: 279.9138\n",
      "Epoch 46/100\n",
      "680/680 [==============================] - 1s 2ms/step - loss: 270.6647 - val_loss: 279.9725\n",
      "Epoch 47/100\n",
      "680/680 [==============================] - 1s 2ms/step - loss: 270.5428 - val_loss: 280.0251\n",
      "Epoch 48/100\n",
      "680/680 [==============================] - 1s 2ms/step - loss: 270.1116 - val_loss: 279.5789\n",
      "Epoch 49/100\n",
      "680/680 [==============================] - 1s 2ms/step - loss: 270.3809 - val_loss: 283.1042\n",
      "Epoch 50/100\n",
      "680/680 [==============================] - 1s 1ms/step - loss: 269.7446 - val_loss: 280.6172\n",
      "Epoch 51/100\n",
      "680/680 [==============================] - 1s 2ms/step - loss: 269.5963 - val_loss: 280.5685\n",
      "Epoch 52/100\n",
      "680/680 [==============================] - 1s 2ms/step - loss: 269.8684 - val_loss: 283.0215\n",
      "Epoch 53/100\n",
      "680/680 [==============================] - 1s 2ms/step - loss: 269.1574 - val_loss: 278.8591\n",
      "Epoch 54/100\n",
      "680/680 [==============================] - 1s 2ms/step - loss: 269.1518 - val_loss: 278.3614\n",
      "Epoch 55/100\n",
      "680/680 [==============================] - 1s 2ms/step - loss: 269.0808 - val_loss: 279.3259\n",
      "Epoch 56/100\n",
      "680/680 [==============================] - 1s 2ms/step - loss: 268.8706 - val_loss: 278.4011\n",
      "Epoch 57/100\n",
      "680/680 [==============================] - 1s 2ms/step - loss: 268.9746 - val_loss: 278.1574\n",
      "Epoch 58/100\n",
      "680/680 [==============================] - 1s 2ms/step - loss: 268.7847 - val_loss: 279.0773\n",
      "Epoch 59/100\n",
      "680/680 [==============================] - 1s 2ms/step - loss: 268.6288 - val_loss: 280.7485\n",
      "Epoch 60/100\n",
      "680/680 [==============================] - 1s 2ms/step - loss: 268.3291 - val_loss: 279.1718\n",
      "Epoch 61/100\n",
      "680/680 [==============================] - 1s 2ms/step - loss: 268.1459 - val_loss: 281.7556\n",
      "Epoch 62/100\n",
      "680/680 [==============================] - 1s 2ms/step - loss: 268.1702 - val_loss: 277.8989\n",
      "Epoch 63/100\n",
      "680/680 [==============================] - 1s 2ms/step - loss: 268.2938 - val_loss: 279.1772\n",
      "Epoch 64/100\n",
      "680/680 [==============================] - 1s 2ms/step - loss: 267.8964 - val_loss: 277.7366\n",
      "Epoch 65/100\n",
      "680/680 [==============================] - 1s 2ms/step - loss: 267.9479 - val_loss: 280.2968\n",
      "Epoch 66/100\n",
      "680/680 [==============================] - 1s 2ms/step - loss: 267.7251 - val_loss: 278.6192\n",
      "Epoch 67/100\n",
      "680/680 [==============================] - 1s 2ms/step - loss: 267.2136 - val_loss: 276.3011\n",
      "Epoch 68/100\n",
      "680/680 [==============================] - 1s 2ms/step - loss: 267.0491 - val_loss: 278.2750\n",
      "Epoch 69/100\n",
      "680/680 [==============================] - 1s 2ms/step - loss: 266.8353 - val_loss: 277.6310\n",
      "Epoch 70/100\n",
      "680/680 [==============================] - 1s 2ms/step - loss: 267.1168 - val_loss: 277.2542\n",
      "Epoch 71/100\n",
      "680/680 [==============================] - 1s 2ms/step - loss: 267.2713 - val_loss: 277.1572\n",
      "Epoch 72/100\n",
      "680/680 [==============================] - 1s 1ms/step - loss: 266.7225 - val_loss: 276.2466\n",
      "Epoch 73/100\n",
      "680/680 [==============================] - 1s 2ms/step - loss: 266.7858 - val_loss: 276.4309\n",
      "Epoch 74/100\n",
      "680/680 [==============================] - 1s 1ms/step - loss: 266.7109 - val_loss: 276.0027\n",
      "Epoch 75/100\n",
      "680/680 [==============================] - 1s 1ms/step - loss: 266.3635 - val_loss: 276.6616\n",
      "Epoch 76/100\n",
      "680/680 [==============================] - 1s 2ms/step - loss: 266.5171 - val_loss: 275.4684\n",
      "Epoch 77/100\n",
      "680/680 [==============================] - 1s 1ms/step - loss: 266.3043 - val_loss: 278.3865\n",
      "Epoch 78/100\n",
      "680/680 [==============================] - 1s 2ms/step - loss: 266.0486 - val_loss: 276.4086\n",
      "Epoch 79/100\n",
      "680/680 [==============================] - 1s 2ms/step - loss: 266.1105 - val_loss: 277.2095\n",
      "Epoch 80/100\n",
      "680/680 [==============================] - 1s 2ms/step - loss: 266.0017 - val_loss: 275.9842\n",
      "Epoch 81/100\n",
      "680/680 [==============================] - 1s 2ms/step - loss: 265.8358 - val_loss: 275.7352\n",
      "Epoch 82/100\n",
      "680/680 [==============================] - 1s 2ms/step - loss: 265.4651 - val_loss: 275.8378\n",
      "Epoch 83/100\n",
      "680/680 [==============================] - 1s 2ms/step - loss: 265.2201 - val_loss: 277.7908\n",
      "Epoch 84/100\n",
      "680/680 [==============================] - 1s 2ms/step - loss: 265.3539 - val_loss: 274.8257\n",
      "Epoch 85/100\n",
      "680/680 [==============================] - 1s 2ms/step - loss: 265.0570 - val_loss: 275.9279\n",
      "Epoch 86/100\n",
      "680/680 [==============================] - 2s 3ms/step - loss: 265.4484 - val_loss: 275.4052\n",
      "Epoch 87/100\n",
      "680/680 [==============================] - 1s 2ms/step - loss: 264.8823 - val_loss: 275.9829\n",
      "Epoch 88/100\n",
      "680/680 [==============================] - 2s 2ms/step - loss: 264.5405 - val_loss: 275.1897\n",
      "Epoch 89/100\n",
      "680/680 [==============================] - 2s 2ms/step - loss: 265.1823 - val_loss: 275.9335\n",
      "Epoch 90/100\n",
      "680/680 [==============================] - 1s 2ms/step - loss: 264.7485 - val_loss: 275.1922\n",
      "Epoch 91/100\n",
      "680/680 [==============================] - 1s 2ms/step - loss: 264.5780 - val_loss: 274.3040\n",
      "Epoch 92/100\n",
      "680/680 [==============================] - 1s 2ms/step - loss: 264.9102 - val_loss: 276.0016\n",
      "Epoch 93/100\n",
      "680/680 [==============================] - 1s 2ms/step - loss: 264.3109 - val_loss: 274.3768\n",
      "Epoch 94/100\n",
      "680/680 [==============================] - 1s 2ms/step - loss: 264.5739 - val_loss: 273.7936\n",
      "Epoch 95/100\n",
      "680/680 [==============================] - 1s 2ms/step - loss: 264.4194 - val_loss: 274.4681\n",
      "Epoch 96/100\n",
      "680/680 [==============================] - 1s 2ms/step - loss: 264.4604 - val_loss: 274.1706\n",
      "Epoch 97/100\n",
      "680/680 [==============================] - 1s 2ms/step - loss: 264.1399 - val_loss: 274.2100\n",
      "Epoch 98/100\n",
      "680/680 [==============================] - 1s 2ms/step - loss: 263.6578 - val_loss: 284.7683\n",
      "Epoch 99/100\n",
      "680/680 [==============================] - 1s 2ms/step - loss: 263.8156 - val_loss: 274.6625\n",
      "Epoch 100/100\n",
      "680/680 [==============================] - 1s 2ms/step - loss: 263.4130 - val_loss: 274.1411\n"
     ]
    }
   ],
   "source": [
    "history = dnn_model.fit(\n",
    "    train_features,\n",
    "    train_labels,\n",
    "    validation_split=0.2, \n",
    "    epochs=100)"
   ]
  },
  {
   "cell_type": "code",
   "execution_count": 109,
   "metadata": {},
   "outputs": [
    {
     "data": {
      "image/png": "[encoded data removed]",
      "text/plain": [
       "<Figure size 432x288 with 1 Axes>"
      ]
     },
     "metadata": {
      "needs_background": "light"
     },
     "output_type": "display_data"
    }
   ],
   "source": [
    "plot_loss(history)"
   ]
  },
  {
   "cell_type": "code",
   "execution_count": 110,
   "metadata": {},
   "outputs": [],
   "source": [
    "test_results['dnn_model'] = dnn_model.evaluate(\n",
    "    test_features, test_labels, verbose=0)"
   ]
  },
  {
   "cell_type": "markdown",
   "metadata": {},
   "source": [
    "##### Performance\n",
    "Since all models have been trained, we can review their test set performance:"
   ]
  },
  {
   "cell_type": "code",
   "execution_count": 111,
   "metadata": {},
   "outputs": [
    {
     "data": {
      "text/html": [
       "<div>\n",
       "<style scoped>\n",
       "    .dataframe tbody tr th:only-of-type {\n",
       "        vertical-align: middle;\n",
       "    }\n",
       "\n",
       "    .dataframe tbody tr th {\n",
       "        vertical-align: top;\n",
       "    }\n",
       "\n",
       "    .dataframe thead th {\n",
       "        text-align: right;\n",
       "    }\n",
       "</style>\n",
       "<table border=\"1\" class=\"dataframe\">\n",
       "  <thead>\n",
       "    <tr style=\"text-align: right;\">\n",
       "      <th></th>\n",
       "      <th>Mean absolute error [price]</th>\n",
       "    </tr>\n",
       "  </thead>\n",
       "  <tbody>\n",
       "    <tr>\n",
       "      <th>carat_model</th>\n",
       "      <td>739.120483</td>\n",
       "    </tr>\n",
       "    <tr>\n",
       "      <th>linear_model</th>\n",
       "      <td>685.360657</td>\n",
       "    </tr>\n",
       "    <tr>\n",
       "      <th>dnn_carat_model</th>\n",
       "      <td>605.196655</td>\n",
       "    </tr>\n",
       "    <tr>\n",
       "      <th>dnn_model</th>\n",
       "      <td>261.021118</td>\n",
       "    </tr>\n",
       "  </tbody>\n",
       "</table>\n",
       "</div>"
      ],
      "text/plain": [
       "                 Mean absolute error [price]\n",
       "carat_model                       739.120483\n",
       "linear_model                      685.360657\n",
       "dnn_carat_model                   605.196655\n",
       "dnn_model                         261.021118"
      ]
     },
     "execution_count": 111,
     "metadata": {},
     "output_type": "execute_result"
    }
   ],
   "source": [
    "pd.DataFrame(test_results, index=['Mean absolute error [price]']).T"
   ]
  },
  {
   "cell_type": "markdown",
   "metadata": {},
   "source": [
    "##### Make predictions\n",
    "We can now make predictions with the dnn_model on the test set using Keras Model.predict and review the loss:"
   ]
  },
  {
   "cell_type": "code",
   "execution_count": 112,
   "metadata": {},
   "outputs": [
    {
     "data": {
      "image/png": "[encoded data removed]",
      "text/plain": [
       "<Figure size 1080x720 with 1 Axes>"
      ]
     },
     "metadata": {
      "needs_background": "light"
     },
     "output_type": "display_data"
    }
   ],
   "source": [
    "test_predictions = dnn_model.predict(test_features).flatten()\n",
    "\n",
    "plt.figure(figsize=(15, 10))\n",
    "plt.scatter(test_labels, test_predictions)\n",
    "plt.xlabel('True Values [price]')\n",
    "plt.ylabel('Predictions [price]')\n",
    "lims = [0, 25000]\n",
    "plt.xlim(lims)\n",
    "plt.ylim(lims)\n",
    "_ = plt.plot(lims, lims)\n"
   ]
  },
  {
   "cell_type": "markdown",
   "metadata": {},
   "source": [
    "The model predicts reasonably well.\n",
    "\n",
    "Now, to check the error distribution:"
   ]
  },
  {
   "cell_type": "code",
   "execution_count": 115,
   "metadata": {},
   "outputs": [
    {
     "data": {
      "image/png": "[encoded data removed]",
      "text/plain": [
       "<Figure size 1080x720 with 1 Axes>"
      ]
     },
     "metadata": {
      "needs_background": "light"
     },
     "output_type": "display_data"
    }
   ],
   "source": [
    "error = test_predictions - test_labels\n",
    "plt.figure(figsize=(15, 10))\n",
    "plt.hist(error, bins=1000)\n",
    "plt.xlabel('Prediction Error [price]')\n",
    "xlim = [-2500, 2500]\n",
    "ylim = [0, 300]\n",
    "plt.xlim(xlim)\n",
    "plt.ylim(ylim)\n",
    "_ = plt.ylabel('Count')\n"
   ]
  },
  {
   "cell_type": "markdown",
   "metadata": {},
   "source": [
    "## Conclusion\n",
    "\n",
    "We predicted the price of the diamonds using four types of models; linear and non-linear and single-valued and multi-valued, and we calculated the loss each one of these models in order to compare which one one of them performed better which turned out to be the non-linear multi-valued one."
   ]
  },
  {
   "cell_type": "code",
   "execution_count": null,
   "metadata": {},
   "outputs": [],
   "source": []
  }
 ],
 "metadata": {
  "interpreter": {
   "hash": "948d73eb6dfda2e804d788ca8e9f193cc8a7762f6fd3fe59d9c3fe882d54f9f4"
  },
  "kernelspec": {
   "display_name": "Python 3.8.8 64-bit ('base': conda)",
   "language": "python",
   "name": "python3"
  },
  "language_info": {
   "codemirror_mode": {
    "name": "ipython",
    "version": 3
   },
   "file_extension": ".py",
   "mimetype": "text/x-python",
   "name": "python",
   "nbconvert_exporter": "python",
   "pygments_lexer": "ipython3",
   "version": "3.8.10"
  },
  "orig_nbformat": 4
 },
 "nbformat": 4,
 "nbformat_minor": 2
}
