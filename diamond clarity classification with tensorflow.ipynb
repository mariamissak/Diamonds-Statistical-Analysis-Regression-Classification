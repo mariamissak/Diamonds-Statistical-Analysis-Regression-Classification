{
 "cells": [
  {
   "cell_type": "markdown",
   "metadata": {},
   "source": [
    "# Introduction\n",
    "\n",
    "In this notebook we use Google's Tensorflow library to classify the clarity of the diamonds knowing its other characteristics.\n"
   ]
  },
  {
   "cell_type": "code",
   "execution_count": 2,
   "metadata": {},
   "outputs": [],
   "source": [
    "import numpy as np\n",
    "import pandas as pd\n",
    "import matplotlib.pyplot as plt\n",
    "import seaborn as sns\n",
    "\n",
    "# Make NumPy printouts easier to read.\n",
    "np.set_printoptions(precision=3, suppress=True)\n",
    "\n",
    "import tensorflow as tf\n",
    "from tensorflow.keras.layers import Dense, Normalization\n",
    "from tensorflow.keras.models import Model\n",
    "\n",
    "from scipy import stats"
   ]
  },
  {
   "cell_type": "markdown",
   "metadata": {},
   "source": [
    "## The data\n",
    "\n",
    "### Getting the data\n",
    "\n",
    "Reading the dataset into a Pandas Dataframe Object"
   ]
  },
  {
   "cell_type": "code",
   "execution_count": 118,
   "metadata": {},
   "outputs": [],
   "source": [
    "data = pd.read_csv(\"diamonds.csv\")"
   ]
  },
  {
   "cell_type": "code",
   "execution_count": 119,
   "metadata": {},
   "outputs": [
    {
     "data": {
      "text/html": [
       "<div>\n",
       "<style scoped>\n",
       "    .dataframe tbody tr th:only-of-type {\n",
       "        vertical-align: middle;\n",
       "    }\n",
       "\n",
       "    .dataframe tbody tr th {\n",
       "        vertical-align: top;\n",
       "    }\n",
       "\n",
       "    .dataframe thead th {\n",
       "        text-align: right;\n",
       "    }\n",
       "</style>\n",
       "<table border=\"1\" class=\"dataframe\">\n",
       "  <thead>\n",
       "    <tr style=\"text-align: right;\">\n",
       "      <th></th>\n",
       "      <th>carat</th>\n",
       "      <th>cut</th>\n",
       "      <th>color</th>\n",
       "      <th>clarity</th>\n",
       "      <th>depth</th>\n",
       "      <th>table</th>\n",
       "      <th>price</th>\n",
       "      <th>x</th>\n",
       "      <th>y</th>\n",
       "      <th>z</th>\n",
       "    </tr>\n",
       "  </thead>\n",
       "  <tbody>\n",
       "    <tr>\n",
       "      <th>0</th>\n",
       "      <td>0.23</td>\n",
       "      <td>Ideal</td>\n",
       "      <td>E</td>\n",
       "      <td>SI2</td>\n",
       "      <td>61.5</td>\n",
       "      <td>55.0</td>\n",
       "      <td>326</td>\n",
       "      <td>3.95</td>\n",
       "      <td>3.98</td>\n",
       "      <td>2.43</td>\n",
       "    </tr>\n",
       "    <tr>\n",
       "      <th>1</th>\n",
       "      <td>0.21</td>\n",
       "      <td>Premium</td>\n",
       "      <td>E</td>\n",
       "      <td>SI1</td>\n",
       "      <td>59.8</td>\n",
       "      <td>61.0</td>\n",
       "      <td>326</td>\n",
       "      <td>3.89</td>\n",
       "      <td>3.84</td>\n",
       "      <td>2.31</td>\n",
       "    </tr>\n",
       "    <tr>\n",
       "      <th>2</th>\n",
       "      <td>0.23</td>\n",
       "      <td>Good</td>\n",
       "      <td>E</td>\n",
       "      <td>VS1</td>\n",
       "      <td>56.9</td>\n",
       "      <td>65.0</td>\n",
       "      <td>327</td>\n",
       "      <td>4.05</td>\n",
       "      <td>4.07</td>\n",
       "      <td>2.31</td>\n",
       "    </tr>\n",
       "    <tr>\n",
       "      <th>3</th>\n",
       "      <td>0.29</td>\n",
       "      <td>Premium</td>\n",
       "      <td>I</td>\n",
       "      <td>VS2</td>\n",
       "      <td>62.4</td>\n",
       "      <td>58.0</td>\n",
       "      <td>334</td>\n",
       "      <td>4.20</td>\n",
       "      <td>4.23</td>\n",
       "      <td>2.63</td>\n",
       "    </tr>\n",
       "    <tr>\n",
       "      <th>4</th>\n",
       "      <td>0.31</td>\n",
       "      <td>Good</td>\n",
       "      <td>J</td>\n",
       "      <td>SI2</td>\n",
       "      <td>63.3</td>\n",
       "      <td>58.0</td>\n",
       "      <td>335</td>\n",
       "      <td>4.34</td>\n",
       "      <td>4.35</td>\n",
       "      <td>2.75</td>\n",
       "    </tr>\n",
       "  </tbody>\n",
       "</table>\n",
       "</div>"
      ],
      "text/plain": [
       "   carat      cut color clarity  depth  table  price     x     y     z\n",
       "0   0.23    Ideal     E     SI2   61.5   55.0    326  3.95  3.98  2.43\n",
       "1   0.21  Premium     E     SI1   59.8   61.0    326  3.89  3.84  2.31\n",
       "2   0.23     Good     E     VS1   56.9   65.0    327  4.05  4.07  2.31\n",
       "3   0.29  Premium     I     VS2   62.4   58.0    334  4.20  4.23  2.63\n",
       "4   0.31     Good     J     SI2   63.3   58.0    335  4.34  4.35  2.75"
      ]
     },
     "execution_count": 119,
     "metadata": {},
     "output_type": "execute_result"
    }
   ],
   "source": [
    "data.head()"
   ]
  },
  {
   "cell_type": "markdown",
   "metadata": {},
   "source": [
    "### Cleaning the data\n",
    "The dataset has no null values as seen:"
   ]
  },
  {
   "cell_type": "code",
   "execution_count": 120,
   "metadata": {},
   "outputs": [
    {
     "data": {
      "text/plain": [
       "carat      0\n",
       "cut        0\n",
       "color      0\n",
       "clarity    0\n",
       "depth      0\n",
       "table      0\n",
       "price      0\n",
       "x          0\n",
       "y          0\n",
       "z          0\n",
       "dtype: int64"
      ]
     },
     "execution_count": 120,
     "metadata": {},
     "output_type": "execute_result"
    }
   ],
   "source": [
    "data.isna().sum()"
   ]
  },
  {
   "cell_type": "markdown",
   "metadata": {},
   "source": [
    "The `color` and `cut` and `clarity` columns are categorical, not numeric. So the next step is to one-hot encode the values in the columns with `pd.get_dummies`."
   ]
  },
  {
   "cell_type": "code",
   "execution_count": 121,
   "metadata": {},
   "outputs": [
    {
     "data": {
      "text/html": [
       "<div>\n",
       "<style scoped>\n",
       "    .dataframe tbody tr th:only-of-type {\n",
       "        vertical-align: middle;\n",
       "    }\n",
       "\n",
       "    .dataframe tbody tr th {\n",
       "        vertical-align: top;\n",
       "    }\n",
       "\n",
       "    .dataframe thead th {\n",
       "        text-align: right;\n",
       "    }\n",
       "</style>\n",
       "<table border=\"1\" class=\"dataframe\">\n",
       "  <thead>\n",
       "    <tr style=\"text-align: right;\">\n",
       "      <th></th>\n",
       "      <th>carat</th>\n",
       "      <th>clarity</th>\n",
       "      <th>depth</th>\n",
       "      <th>table</th>\n",
       "      <th>price</th>\n",
       "      <th>x</th>\n",
       "      <th>y</th>\n",
       "      <th>z</th>\n",
       "      <th>color_D</th>\n",
       "      <th>color_E</th>\n",
       "      <th>color_F</th>\n",
       "      <th>color_G</th>\n",
       "      <th>color_H</th>\n",
       "      <th>color_I</th>\n",
       "      <th>color_J</th>\n",
       "      <th>cut_Fair</th>\n",
       "      <th>cut_Good</th>\n",
       "      <th>cut_Ideal</th>\n",
       "      <th>cut_Premium</th>\n",
       "      <th>cut_Very Good</th>\n",
       "    </tr>\n",
       "  </thead>\n",
       "  <tbody>\n",
       "    <tr>\n",
       "      <th>0</th>\n",
       "      <td>0.23</td>\n",
       "      <td>SI2</td>\n",
       "      <td>61.5</td>\n",
       "      <td>55.0</td>\n",
       "      <td>326</td>\n",
       "      <td>3.95</td>\n",
       "      <td>3.98</td>\n",
       "      <td>2.43</td>\n",
       "      <td>0</td>\n",
       "      <td>1</td>\n",
       "      <td>0</td>\n",
       "      <td>0</td>\n",
       "      <td>0</td>\n",
       "      <td>0</td>\n",
       "      <td>0</td>\n",
       "      <td>0</td>\n",
       "      <td>0</td>\n",
       "      <td>1</td>\n",
       "      <td>0</td>\n",
       "      <td>0</td>\n",
       "    </tr>\n",
       "    <tr>\n",
       "      <th>1</th>\n",
       "      <td>0.21</td>\n",
       "      <td>SI1</td>\n",
       "      <td>59.8</td>\n",
       "      <td>61.0</td>\n",
       "      <td>326</td>\n",
       "      <td>3.89</td>\n",
       "      <td>3.84</td>\n",
       "      <td>2.31</td>\n",
       "      <td>0</td>\n",
       "      <td>1</td>\n",
       "      <td>0</td>\n",
       "      <td>0</td>\n",
       "      <td>0</td>\n",
       "      <td>0</td>\n",
       "      <td>0</td>\n",
       "      <td>0</td>\n",
       "      <td>0</td>\n",
       "      <td>0</td>\n",
       "      <td>1</td>\n",
       "      <td>0</td>\n",
       "    </tr>\n",
       "    <tr>\n",
       "      <th>2</th>\n",
       "      <td>0.23</td>\n",
       "      <td>VS1</td>\n",
       "      <td>56.9</td>\n",
       "      <td>65.0</td>\n",
       "      <td>327</td>\n",
       "      <td>4.05</td>\n",
       "      <td>4.07</td>\n",
       "      <td>2.31</td>\n",
       "      <td>0</td>\n",
       "      <td>1</td>\n",
       "      <td>0</td>\n",
       "      <td>0</td>\n",
       "      <td>0</td>\n",
       "      <td>0</td>\n",
       "      <td>0</td>\n",
       "      <td>0</td>\n",
       "      <td>1</td>\n",
       "      <td>0</td>\n",
       "      <td>0</td>\n",
       "      <td>0</td>\n",
       "    </tr>\n",
       "    <tr>\n",
       "      <th>3</th>\n",
       "      <td>0.29</td>\n",
       "      <td>VS2</td>\n",
       "      <td>62.4</td>\n",
       "      <td>58.0</td>\n",
       "      <td>334</td>\n",
       "      <td>4.20</td>\n",
       "      <td>4.23</td>\n",
       "      <td>2.63</td>\n",
       "      <td>0</td>\n",
       "      <td>0</td>\n",
       "      <td>0</td>\n",
       "      <td>0</td>\n",
       "      <td>0</td>\n",
       "      <td>1</td>\n",
       "      <td>0</td>\n",
       "      <td>0</td>\n",
       "      <td>0</td>\n",
       "      <td>0</td>\n",
       "      <td>1</td>\n",
       "      <td>0</td>\n",
       "    </tr>\n",
       "    <tr>\n",
       "      <th>4</th>\n",
       "      <td>0.31</td>\n",
       "      <td>SI2</td>\n",
       "      <td>63.3</td>\n",
       "      <td>58.0</td>\n",
       "      <td>335</td>\n",
       "      <td>4.34</td>\n",
       "      <td>4.35</td>\n",
       "      <td>2.75</td>\n",
       "      <td>0</td>\n",
       "      <td>0</td>\n",
       "      <td>0</td>\n",
       "      <td>0</td>\n",
       "      <td>0</td>\n",
       "      <td>0</td>\n",
       "      <td>1</td>\n",
       "      <td>0</td>\n",
       "      <td>1</td>\n",
       "      <td>0</td>\n",
       "      <td>0</td>\n",
       "      <td>0</td>\n",
       "    </tr>\n",
       "  </tbody>\n",
       "</table>\n",
       "</div>"
      ],
      "text/plain": [
       "   carat clarity  depth  table  price     x     y     z  color_D  color_E  \\\n",
       "0   0.23     SI2   61.5   55.0    326  3.95  3.98  2.43        0        1   \n",
       "1   0.21     SI1   59.8   61.0    326  3.89  3.84  2.31        0        1   \n",
       "2   0.23     VS1   56.9   65.0    327  4.05  4.07  2.31        0        1   \n",
       "3   0.29     VS2   62.4   58.0    334  4.20  4.23  2.63        0        0   \n",
       "4   0.31     SI2   63.3   58.0    335  4.34  4.35  2.75        0        0   \n",
       "\n",
       "   color_F  color_G  color_H  color_I  color_J  cut_Fair  cut_Good  cut_Ideal  \\\n",
       "0        0        0        0        0        0         0         0          1   \n",
       "1        0        0        0        0        0         0         0          0   \n",
       "2        0        0        0        0        0         0         1          0   \n",
       "3        0        0        0        1        0         0         0          0   \n",
       "4        0        0        0        0        1         0         1          0   \n",
       "\n",
       "   cut_Premium  cut_Very Good  \n",
       "0            0              0  \n",
       "1            1              0  \n",
       "2            0              0  \n",
       "3            1              0  \n",
       "4            0              0  "
      ]
     },
     "execution_count": 121,
     "metadata": {},
     "output_type": "execute_result"
    }
   ],
   "source": [
    "data = pd.get_dummies(data, columns=['color'], prefix='color')\n",
    "data = pd.get_dummies(data, columns=['cut'], prefix='cut')\n",
    "data.head()"
   ]
  },
  {
   "cell_type": "code",
   "execution_count": 152,
   "metadata": {},
   "outputs": [],
   "source": [
    "clarity_labels = ['I1', 'SI2', 'SI1', 'VS2', 'VS1', 'VVS2', 'VVS1', 'IF']"
   ]
  },
  {
   "cell_type": "code",
   "execution_count": 122,
   "metadata": {},
   "outputs": [
    {
     "data": {
      "text/html": [
       "<div>\n",
       "<style scoped>\n",
       "    .dataframe tbody tr th:only-of-type {\n",
       "        vertical-align: middle;\n",
       "    }\n",
       "\n",
       "    .dataframe tbody tr th {\n",
       "        vertical-align: top;\n",
       "    }\n",
       "\n",
       "    .dataframe thead th {\n",
       "        text-align: right;\n",
       "    }\n",
       "</style>\n",
       "<table border=\"1\" class=\"dataframe\">\n",
       "  <thead>\n",
       "    <tr style=\"text-align: right;\">\n",
       "      <th></th>\n",
       "      <th>carat</th>\n",
       "      <th>clarity</th>\n",
       "      <th>depth</th>\n",
       "      <th>table</th>\n",
       "      <th>price</th>\n",
       "      <th>x</th>\n",
       "      <th>y</th>\n",
       "      <th>z</th>\n",
       "      <th>color_D</th>\n",
       "      <th>color_E</th>\n",
       "      <th>color_F</th>\n",
       "      <th>color_G</th>\n",
       "      <th>color_H</th>\n",
       "      <th>color_I</th>\n",
       "      <th>color_J</th>\n",
       "      <th>cut_Fair</th>\n",
       "      <th>cut_Good</th>\n",
       "      <th>cut_Ideal</th>\n",
       "      <th>cut_Premium</th>\n",
       "      <th>cut_Very Good</th>\n",
       "    </tr>\n",
       "  </thead>\n",
       "  <tbody>\n",
       "    <tr>\n",
       "      <th>0</th>\n",
       "      <td>0.23</td>\n",
       "      <td>1</td>\n",
       "      <td>61.5</td>\n",
       "      <td>55.0</td>\n",
       "      <td>326</td>\n",
       "      <td>3.95</td>\n",
       "      <td>3.98</td>\n",
       "      <td>2.43</td>\n",
       "      <td>0</td>\n",
       "      <td>1</td>\n",
       "      <td>0</td>\n",
       "      <td>0</td>\n",
       "      <td>0</td>\n",
       "      <td>0</td>\n",
       "      <td>0</td>\n",
       "      <td>0</td>\n",
       "      <td>0</td>\n",
       "      <td>1</td>\n",
       "      <td>0</td>\n",
       "      <td>0</td>\n",
       "    </tr>\n",
       "    <tr>\n",
       "      <th>1</th>\n",
       "      <td>0.21</td>\n",
       "      <td>2</td>\n",
       "      <td>59.8</td>\n",
       "      <td>61.0</td>\n",
       "      <td>326</td>\n",
       "      <td>3.89</td>\n",
       "      <td>3.84</td>\n",
       "      <td>2.31</td>\n",
       "      <td>0</td>\n",
       "      <td>1</td>\n",
       "      <td>0</td>\n",
       "      <td>0</td>\n",
       "      <td>0</td>\n",
       "      <td>0</td>\n",
       "      <td>0</td>\n",
       "      <td>0</td>\n",
       "      <td>0</td>\n",
       "      <td>0</td>\n",
       "      <td>1</td>\n",
       "      <td>0</td>\n",
       "    </tr>\n",
       "    <tr>\n",
       "      <th>2</th>\n",
       "      <td>0.23</td>\n",
       "      <td>4</td>\n",
       "      <td>56.9</td>\n",
       "      <td>65.0</td>\n",
       "      <td>327</td>\n",
       "      <td>4.05</td>\n",
       "      <td>4.07</td>\n",
       "      <td>2.31</td>\n",
       "      <td>0</td>\n",
       "      <td>1</td>\n",
       "      <td>0</td>\n",
       "      <td>0</td>\n",
       "      <td>0</td>\n",
       "      <td>0</td>\n",
       "      <td>0</td>\n",
       "      <td>0</td>\n",
       "      <td>1</td>\n",
       "      <td>0</td>\n",
       "      <td>0</td>\n",
       "      <td>0</td>\n",
       "    </tr>\n",
       "    <tr>\n",
       "      <th>3</th>\n",
       "      <td>0.29</td>\n",
       "      <td>3</td>\n",
       "      <td>62.4</td>\n",
       "      <td>58.0</td>\n",
       "      <td>334</td>\n",
       "      <td>4.20</td>\n",
       "      <td>4.23</td>\n",
       "      <td>2.63</td>\n",
       "      <td>0</td>\n",
       "      <td>0</td>\n",
       "      <td>0</td>\n",
       "      <td>0</td>\n",
       "      <td>0</td>\n",
       "      <td>1</td>\n",
       "      <td>0</td>\n",
       "      <td>0</td>\n",
       "      <td>0</td>\n",
       "      <td>0</td>\n",
       "      <td>1</td>\n",
       "      <td>0</td>\n",
       "    </tr>\n",
       "    <tr>\n",
       "      <th>4</th>\n",
       "      <td>0.31</td>\n",
       "      <td>1</td>\n",
       "      <td>63.3</td>\n",
       "      <td>58.0</td>\n",
       "      <td>335</td>\n",
       "      <td>4.34</td>\n",
       "      <td>4.35</td>\n",
       "      <td>2.75</td>\n",
       "      <td>0</td>\n",
       "      <td>0</td>\n",
       "      <td>0</td>\n",
       "      <td>0</td>\n",
       "      <td>0</td>\n",
       "      <td>0</td>\n",
       "      <td>1</td>\n",
       "      <td>0</td>\n",
       "      <td>1</td>\n",
       "      <td>0</td>\n",
       "      <td>0</td>\n",
       "      <td>0</td>\n",
       "    </tr>\n",
       "  </tbody>\n",
       "</table>\n",
       "</div>"
      ],
      "text/plain": [
       "   carat  clarity  depth  table  price     x     y     z  color_D  color_E  \\\n",
       "0   0.23        1   61.5   55.0    326  3.95  3.98  2.43        0        1   \n",
       "1   0.21        2   59.8   61.0    326  3.89  3.84  2.31        0        1   \n",
       "2   0.23        4   56.9   65.0    327  4.05  4.07  2.31        0        1   \n",
       "3   0.29        3   62.4   58.0    334  4.20  4.23  2.63        0        0   \n",
       "4   0.31        1   63.3   58.0    335  4.34  4.35  2.75        0        0   \n",
       "\n",
       "   color_F  color_G  color_H  color_I  color_J  cut_Fair  cut_Good  cut_Ideal  \\\n",
       "0        0        0        0        0        0         0         0          1   \n",
       "1        0        0        0        0        0         0         0          0   \n",
       "2        0        0        0        0        0         0         1          0   \n",
       "3        0        0        0        1        0         0         0          0   \n",
       "4        0        0        0        0        1         0         1          0   \n",
       "\n",
       "   cut_Premium  cut_Very Good  \n",
       "0            0              0  \n",
       "1            1              0  \n",
       "2            0              0  \n",
       "3            1              0  \n",
       "4            0              0  "
      ]
     },
     "execution_count": 122,
     "metadata": {},
     "output_type": "execute_result"
    }
   ],
   "source": [
    "data.replace(['IF', 'VVS1', 'VVS2', 'VS1', 'VS2', 'SI1', 'SI2', 'I1'],\n",
    "             [7, 6, 5, 4, 3, 2, 1, 0], inplace=True)\n",
    "data.head()"
   ]
  },
  {
   "cell_type": "markdown",
   "metadata": {},
   "source": [
    "Remove outliers that have z score higher than 3 or lower than -3 "
   ]
  },
  {
   "cell_type": "code",
   "execution_count": 123,
   "metadata": {},
   "outputs": [],
   "source": [
    "data = data[(np.abs(stats.zscore(data)) < 3).all(axis=1)]\n"
   ]
  },
  {
   "cell_type": "code",
   "execution_count": 124,
   "metadata": {},
   "outputs": [
    {
     "data": {
      "text/plain": [
       "(43898, 20)"
      ]
     },
     "execution_count": 124,
     "metadata": {},
     "output_type": "execute_result"
    }
   ],
   "source": [
    "data.shape"
   ]
  },
  {
   "cell_type": "markdown",
   "metadata": {},
   "source": [
    "### Split the data into training and test sets\n",
    "Now, split the dataset into a training set and a test set. You will use the test set in the final evaluation of the model."
   ]
  },
  {
   "cell_type": "code",
   "execution_count": 125,
   "metadata": {},
   "outputs": [],
   "source": [
    "train_dataset = data.sample(frac=0.8, random_state=0)\n",
    "test_dataset = data.drop(train_dataset.index)\n"
   ]
  },
  {
   "cell_type": "code",
   "execution_count": 126,
   "metadata": {},
   "outputs": [
    {
     "data": {
      "text/plain": [
       "(35118, 20)"
      ]
     },
     "execution_count": 126,
     "metadata": {},
     "output_type": "execute_result"
    }
   ],
   "source": [
    "train_dataset.shape"
   ]
  },
  {
   "cell_type": "markdown",
   "metadata": {},
   "source": [
    "### Split features from labels\n",
    "Separate the target value —the clarity, also called the label— from the features. This label is the value that we will train the model to classify."
   ]
  },
  {
   "cell_type": "code",
   "execution_count": 127,
   "metadata": {},
   "outputs": [],
   "source": [
    "train_features = train_dataset.copy()\n",
    "test_features = test_dataset.copy()\n",
    "\n",
    "train_labels = train_features.pop('clarity')\n",
    "test_labels = test_features.pop('clarity')\n"
   ]
  },
  {
   "cell_type": "code",
   "execution_count": 128,
   "metadata": {},
   "outputs": [
    {
     "data": {
      "text/plain": [
       "(35118, 19)"
      ]
     },
     "execution_count": 128,
     "metadata": {},
     "output_type": "execute_result"
    }
   ],
   "source": [
    "train_features.shape"
   ]
  },
  {
   "cell_type": "markdown",
   "metadata": {},
   "source": [
    "## Normalization\n",
    "In the table of statistics it's easy to see how different the ranges of each feature are:"
   ]
  },
  {
   "cell_type": "code",
   "execution_count": 129,
   "metadata": {},
   "outputs": [
    {
     "data": {
      "text/html": [
       "<div>\n",
       "<style scoped>\n",
       "    .dataframe tbody tr th:only-of-type {\n",
       "        vertical-align: middle;\n",
       "    }\n",
       "\n",
       "    .dataframe tbody tr th {\n",
       "        vertical-align: top;\n",
       "    }\n",
       "\n",
       "    .dataframe thead th {\n",
       "        text-align: right;\n",
       "    }\n",
       "</style>\n",
       "<table border=\"1\" class=\"dataframe\">\n",
       "  <thead>\n",
       "    <tr style=\"text-align: right;\">\n",
       "      <th></th>\n",
       "      <th>mean</th>\n",
       "      <th>std</th>\n",
       "    </tr>\n",
       "  </thead>\n",
       "  <tbody>\n",
       "    <tr>\n",
       "      <th>carat</th>\n",
       "      <td>0.731307</td>\n",
       "      <td>0.411764</td>\n",
       "    </tr>\n",
       "    <tr>\n",
       "      <th>depth</th>\n",
       "      <td>61.610507</td>\n",
       "      <td>1.062151</td>\n",
       "    </tr>\n",
       "    <tr>\n",
       "      <th>table</th>\n",
       "      <td>57.234395</td>\n",
       "      <td>1.996659</td>\n",
       "    </tr>\n",
       "    <tr>\n",
       "      <th>price</th>\n",
       "      <td>3498.515092</td>\n",
       "      <td>3437.424130</td>\n",
       "    </tr>\n",
       "    <tr>\n",
       "      <th>x</th>\n",
       "      <td>5.594549</td>\n",
       "      <td>1.045153</td>\n",
       "    </tr>\n",
       "    <tr>\n",
       "      <th>y</th>\n",
       "      <td>5.598036</td>\n",
       "      <td>1.037866</td>\n",
       "    </tr>\n",
       "    <tr>\n",
       "      <th>z</th>\n",
       "      <td>3.447391</td>\n",
       "      <td>0.641583</td>\n",
       "    </tr>\n",
       "  </tbody>\n",
       "</table>\n",
       "</div>"
      ],
      "text/plain": [
       "              mean          std\n",
       "carat     0.731307     0.411764\n",
       "depth    61.610507     1.062151\n",
       "table    57.234395     1.996659\n",
       "price  3498.515092  3437.424130\n",
       "x         5.594549     1.045153\n",
       "y         5.598036     1.037866\n",
       "z         3.447391     0.641583"
      ]
     },
     "execution_count": 129,
     "metadata": {},
     "output_type": "execute_result"
    }
   ],
   "source": [
    "train_dataset[['carat', 'depth', 'table', 'price', 'x', 'y', 'z']].describe().transpose()[['mean', 'std']]"
   ]
  },
  {
   "cell_type": "markdown",
   "metadata": {},
   "source": [
    "It is good practice to normalize features that have different ranges.\n",
    "\n",
    "If we skip normalizing the features, the model will still converge (ie: reach the optimum loss. ie: become able to predict and perform regression as best as it can), However, normalization makes training much more stable."
   ]
  },
  {
   "cell_type": "markdown",
   "metadata": {},
   "source": [
    "### The Normalization layer\n",
    "The tf.keras.layers.Normalization is a clean and simple way to add feature normalization into owr model.\n",
    "\n",
    "The first step is to create the layer:"
   ]
  },
  {
   "cell_type": "code",
   "execution_count": 130,
   "metadata": {},
   "outputs": [],
   "source": [
    "normalizer = tf.keras.layers.Normalization(axis=-1)\n"
   ]
  },
  {
   "cell_type": "markdown",
   "metadata": {},
   "source": [
    "Then, fit the state of the preprocessing layer to the data by calling Normalization.adapt:"
   ]
  },
  {
   "cell_type": "code",
   "execution_count": 131,
   "metadata": {},
   "outputs": [],
   "source": [
    "normalizer.adapt(np.array(train_features))"
   ]
  },
  {
   "cell_type": "markdown",
   "metadata": {},
   "source": [
    "Calculate the mean and variance, and store them in the layer:"
   ]
  },
  {
   "cell_type": "code",
   "execution_count": 132,
   "metadata": {},
   "outputs": [
    {
     "name": "stdout",
     "output_type": "stream",
     "text": [
      "[[   0.731   61.611   57.234 3498.516    5.595    5.598    3.447    0.132\n",
      "     0.193    0.188    0.225    0.161    0.101    0.       0.       0.\n",
      "     0.465    0.283    0.252]]\n"
     ]
    }
   ],
   "source": [
    "print(normalizer.mean.numpy())"
   ]
  },
  {
   "cell_type": "markdown",
   "metadata": {},
   "source": [
    "When the layer is called, it returns the input data, with each feature independently normalized:"
   ]
  },
  {
   "cell_type": "code",
   "execution_count": 133,
   "metadata": {},
   "outputs": [
    {
     "name": "stdout",
     "output_type": "stream",
     "text": [
      "First example: [[  0.26  62.3   57.   599.     4.06   4.09   2.54   0.     1.     0.\n",
      "    0.     0.     0.     0.     0.     0.     1.     0.     0.  ]]\n",
      "\n",
      "Normalized: [[-1.14  0.65 -0.12 -0.84 -1.47 -1.45 -1.41 -0.39  2.04 -0.48 -0.54 -0.44\n",
      "  -0.34  0.    0.    0.    1.07 -0.63 -0.58]]\n"
     ]
    }
   ],
   "source": [
    "first = np.array(train_features[:1])\n",
    "\n",
    "with np.printoptions(precision=2, suppress=True):\n",
    "    print('First example:', first)\n",
    "    print()\n",
    "    print('Normalized:', normalizer(first).numpy())\n"
   ]
  },
  {
   "cell_type": "code",
   "execution_count": 137,
   "metadata": {},
   "outputs": [],
   "source": [
    "model = tf.keras.Sequential([\n",
    "    normalizer,\n",
    "    tf.keras.layers.Dense(64, activation='relu'),\n",
    "    tf.keras.layers.Dense(128, activation='relu'),\n",
    "    tf.keras.layers.Dense(64, activation='relu'),\n",
    "    tf.keras.layers.Dense(8)\n",
    "])\n"
   ]
  },
  {
   "cell_type": "code",
   "execution_count": 138,
   "metadata": {},
   "outputs": [],
   "source": [
    "model.compile(optimizer='nadam',\n",
    "              loss=tf.keras.losses.SparseCategoricalCrossentropy(\n",
    "                  from_logits=True),\n",
    "              metrics=['accuracy'])\n"
   ]
  },
  {
   "cell_type": "code",
   "execution_count": 139,
   "metadata": {},
   "outputs": [
    {
     "name": "stdout",
     "output_type": "stream",
     "text": [
      "Epoch 1/100\n",
      "1098/1098 [==============================] - 4s 3ms/step - loss: 1.4492 - accuracy: 0.3971 - val_loss: 1.2262 - val_accuracy: 0.4589\n",
      "Epoch 2/100\n",
      "1098/1098 [==============================] - 3s 3ms/step - loss: 1.1657 - accuracy: 0.5051 - val_loss: 1.1278 - val_accuracy: 0.5172\n",
      "Epoch 3/100\n",
      "1098/1098 [==============================] - 3s 3ms/step - loss: 1.1082 - accuracy: 0.5273 - val_loss: 1.1292 - val_accuracy: 0.4967\n",
      "Epoch 4/100\n",
      "1098/1098 [==============================] - 3s 3ms/step - loss: 1.0767 - accuracy: 0.5412 - val_loss: 1.0620 - val_accuracy: 0.5361\n",
      "Epoch 5/100\n",
      "1098/1098 [==============================] - 3s 3ms/step - loss: 1.0553 - accuracy: 0.5495 - val_loss: 1.0536 - val_accuracy: 0.5461\n",
      "Epoch 6/100\n",
      "1098/1098 [==============================] - 4s 3ms/step - loss: 1.0364 - accuracy: 0.5577 - val_loss: 1.1299 - val_accuracy: 0.5202\n",
      "Epoch 7/100\n",
      "1098/1098 [==============================] - 4s 4ms/step - loss: 1.0196 - accuracy: 0.5682 - val_loss: 1.0105 - val_accuracy: 0.5667\n",
      "Epoch 8/100\n",
      "1098/1098 [==============================] - 4s 4ms/step - loss: 1.0029 - accuracy: 0.5767 - val_loss: 1.0154 - val_accuracy: 0.5740\n",
      "Epoch 9/100\n",
      "1098/1098 [==============================] - 3s 3ms/step - loss: 0.9920 - accuracy: 0.5838 - val_loss: 1.0705 - val_accuracy: 0.5410\n",
      "Epoch 10/100\n",
      "1098/1098 [==============================] - 2s 2ms/step - loss: 0.9765 - accuracy: 0.5936 - val_loss: 1.0047 - val_accuracy: 0.5797\n",
      "Epoch 11/100\n",
      "1098/1098 [==============================] - 2s 2ms/step - loss: 0.9674 - accuracy: 0.5943 - val_loss: 0.9757 - val_accuracy: 0.5959\n",
      "Epoch 12/100\n",
      "1098/1098 [==============================] - 2s 2ms/step - loss: 0.9552 - accuracy: 0.6028 - val_loss: 0.9662 - val_accuracy: 0.6056\n",
      "Epoch 13/100\n",
      "1098/1098 [==============================] - 2s 2ms/step - loss: 0.9471 - accuracy: 0.6085 - val_loss: 0.9769 - val_accuracy: 0.5952\n",
      "Epoch 14/100\n",
      "1098/1098 [==============================] - 2s 2ms/step - loss: 0.9405 - accuracy: 0.6103 - val_loss: 1.0132 - val_accuracy: 0.5793\n",
      "Epoch 15/100\n",
      "1098/1098 [==============================] - 2s 2ms/step - loss: 0.9307 - accuracy: 0.6158 - val_loss: 0.9696 - val_accuracy: 0.6047\n",
      "Epoch 16/100\n",
      "1098/1098 [==============================] - 2s 2ms/step - loss: 0.9235 - accuracy: 0.6193 - val_loss: 0.9571 - val_accuracy: 0.6014\n",
      "Epoch 17/100\n",
      "1098/1098 [==============================] - 2s 2ms/step - loss: 0.9152 - accuracy: 0.6249 - val_loss: 0.9480 - val_accuracy: 0.6052\n",
      "Epoch 18/100\n",
      "1098/1098 [==============================] - 2s 2ms/step - loss: 0.9101 - accuracy: 0.6263 - val_loss: 0.9447 - val_accuracy: 0.6130\n",
      "Epoch 19/100\n",
      "1098/1098 [==============================] - 2s 2ms/step - loss: 0.9051 - accuracy: 0.6294 - val_loss: 0.9365 - val_accuracy: 0.6253\n",
      "Epoch 20/100\n",
      "1098/1098 [==============================] - 2s 2ms/step - loss: 0.9006 - accuracy: 0.6304 - val_loss: 0.9477 - val_accuracy: 0.6134\n",
      "Epoch 21/100\n",
      "1098/1098 [==============================] - 2s 2ms/step - loss: 0.8914 - accuracy: 0.6353 - val_loss: 0.9644 - val_accuracy: 0.5933\n",
      "Epoch 22/100\n",
      "1098/1098 [==============================] - 2s 2ms/step - loss: 0.8868 - accuracy: 0.6345 - val_loss: 0.9321 - val_accuracy: 0.6181\n",
      "Epoch 23/100\n",
      "1098/1098 [==============================] - 2s 2ms/step - loss: 0.8850 - accuracy: 0.6384 - val_loss: 0.9122 - val_accuracy: 0.6305\n",
      "Epoch 24/100\n",
      "1098/1098 [==============================] - 2s 2ms/step - loss: 0.8781 - accuracy: 0.6394 - val_loss: 0.9242 - val_accuracy: 0.6125\n",
      "Epoch 25/100\n",
      "1098/1098 [==============================] - 2s 2ms/step - loss: 0.8742 - accuracy: 0.6445 - val_loss: 0.9147 - val_accuracy: 0.6289\n",
      "Epoch 26/100\n",
      "1098/1098 [==============================] - 2s 2ms/step - loss: 0.8688 - accuracy: 0.6441 - val_loss: 0.9204 - val_accuracy: 0.6243\n",
      "Epoch 27/100\n",
      "1098/1098 [==============================] - 2s 2ms/step - loss: 0.8639 - accuracy: 0.6485 - val_loss: 0.9343 - val_accuracy: 0.6206\n",
      "Epoch 28/100\n",
      "1098/1098 [==============================] - 2s 2ms/step - loss: 0.8595 - accuracy: 0.6503 - val_loss: 0.9408 - val_accuracy: 0.6121\n",
      "Epoch 29/100\n",
      "1098/1098 [==============================] - 2s 2ms/step - loss: 0.8572 - accuracy: 0.6513 - val_loss: 0.9262 - val_accuracy: 0.6229\n",
      "Epoch 30/100\n",
      "1098/1098 [==============================] - 2s 2ms/step - loss: 0.8562 - accuracy: 0.6509 - val_loss: 0.9228 - val_accuracy: 0.6251\n",
      "Epoch 31/100\n",
      "1098/1098 [==============================] - 3s 2ms/step - loss: 0.8511 - accuracy: 0.6512 - val_loss: 0.9285 - val_accuracy: 0.6226\n",
      "Epoch 32/100\n",
      "1098/1098 [==============================] - 4s 3ms/step - loss: 0.8478 - accuracy: 0.6531 - val_loss: 0.9259 - val_accuracy: 0.6245\n",
      "Epoch 33/100\n",
      "1098/1098 [==============================] - 2s 2ms/step - loss: 0.8456 - accuracy: 0.6568 - val_loss: 0.9119 - val_accuracy: 0.6368\n",
      "Epoch 34/100\n",
      "1098/1098 [==============================] - 2s 2ms/step - loss: 0.8397 - accuracy: 0.6589 - val_loss: 0.9647 - val_accuracy: 0.6192\n",
      "Epoch 35/100\n",
      "1098/1098 [==============================] - 2s 2ms/step - loss: 0.8387 - accuracy: 0.6590 - val_loss: 0.9285 - val_accuracy: 0.6257\n",
      "Epoch 36/100\n",
      "1098/1098 [==============================] - 2s 2ms/step - loss: 0.8352 - accuracy: 0.6619 - val_loss: 0.9199 - val_accuracy: 0.6327\n",
      "Epoch 37/100\n",
      "1098/1098 [==============================] - 2s 2ms/step - loss: 0.8315 - accuracy: 0.6619 - val_loss: 0.9334 - val_accuracy: 0.6235\n",
      "Epoch 38/100\n",
      "1098/1098 [==============================] - 2s 2ms/step - loss: 0.8273 - accuracy: 0.6648 - val_loss: 0.9282 - val_accuracy: 0.6273\n",
      "Epoch 39/100\n",
      "1098/1098 [==============================] - 2s 2ms/step - loss: 0.8237 - accuracy: 0.6648 - val_loss: 0.9295 - val_accuracy: 0.6267\n",
      "Epoch 40/100\n",
      "1098/1098 [==============================] - 2s 2ms/step - loss: 0.8242 - accuracy: 0.6636 - val_loss: 0.9006 - val_accuracy: 0.6467\n",
      "Epoch 41/100\n",
      "1098/1098 [==============================] - 2s 2ms/step - loss: 0.8193 - accuracy: 0.6664 - val_loss: 0.9126 - val_accuracy: 0.6325\n",
      "Epoch 42/100\n",
      "1098/1098 [==============================] - 2s 2ms/step - loss: 0.8184 - accuracy: 0.6683 - val_loss: 0.9071 - val_accuracy: 0.6402\n",
      "Epoch 43/100\n",
      "1098/1098 [==============================] - 2s 2ms/step - loss: 0.8172 - accuracy: 0.6679 - val_loss: 0.9247 - val_accuracy: 0.6314\n",
      "Epoch 44/100\n",
      "1098/1098 [==============================] - 2s 2ms/step - loss: 0.8107 - accuracy: 0.6691 - val_loss: 0.9102 - val_accuracy: 0.6440\n",
      "Epoch 45/100\n",
      "1098/1098 [==============================] - 2s 2ms/step - loss: 0.8061 - accuracy: 0.6719 - val_loss: 0.9317 - val_accuracy: 0.6310\n",
      "Epoch 46/100\n",
      "1098/1098 [==============================] - 2s 2ms/step - loss: 0.8081 - accuracy: 0.6726 - val_loss: 0.9192 - val_accuracy: 0.6305\n",
      "Epoch 47/100\n",
      "1098/1098 [==============================] - 2s 2ms/step - loss: 0.8042 - accuracy: 0.6752 - val_loss: 0.9215 - val_accuracy: 0.6353\n",
      "Epoch 48/100\n",
      "1098/1098 [==============================] - 3s 3ms/step - loss: 0.8013 - accuracy: 0.6753 - val_loss: 0.9335 - val_accuracy: 0.6224\n",
      "Epoch 49/100\n",
      "1098/1098 [==============================] - 2s 2ms/step - loss: 0.7967 - accuracy: 0.6768 - val_loss: 0.8973 - val_accuracy: 0.6485\n",
      "Epoch 50/100\n",
      "1098/1098 [==============================] - 2s 2ms/step - loss: 0.7949 - accuracy: 0.6779 - val_loss: 0.9369 - val_accuracy: 0.6277\n",
      "Epoch 51/100\n",
      "1098/1098 [==============================] - 2s 2ms/step - loss: 0.7923 - accuracy: 0.6803 - val_loss: 0.8972 - val_accuracy: 0.6438\n",
      "Epoch 52/100\n",
      "1098/1098 [==============================] - 2s 2ms/step - loss: 0.7913 - accuracy: 0.6793 - val_loss: 0.9119 - val_accuracy: 0.6449\n",
      "Epoch 53/100\n",
      "1098/1098 [==============================] - 3s 2ms/step - loss: 0.7899 - accuracy: 0.6795 - val_loss: 0.9109 - val_accuracy: 0.6358\n",
      "Epoch 54/100\n",
      "1098/1098 [==============================] - 3s 2ms/step - loss: 0.7879 - accuracy: 0.6814 - val_loss: 0.9174 - val_accuracy: 0.6346\n",
      "Epoch 55/100\n",
      "1098/1098 [==============================] - 3s 2ms/step - loss: 0.7859 - accuracy: 0.6786 - val_loss: 0.9412 - val_accuracy: 0.6204\n",
      "Epoch 56/100\n",
      "1098/1098 [==============================] - 2s 2ms/step - loss: 0.7815 - accuracy: 0.6845 - val_loss: 0.9280 - val_accuracy: 0.6308\n",
      "Epoch 57/100\n",
      "1098/1098 [==============================] - 2s 2ms/step - loss: 0.7840 - accuracy: 0.6817 - val_loss: 0.9072 - val_accuracy: 0.6395\n",
      "Epoch 58/100\n",
      "1098/1098 [==============================] - 2s 2ms/step - loss: 0.7786 - accuracy: 0.6847 - val_loss: 0.9236 - val_accuracy: 0.6351\n",
      "Epoch 59/100\n",
      "1098/1098 [==============================] - 2s 2ms/step - loss: 0.7759 - accuracy: 0.6858 - val_loss: 0.8992 - val_accuracy: 0.6470\n",
      "Epoch 60/100\n",
      "1098/1098 [==============================] - 2s 2ms/step - loss: 0.7724 - accuracy: 0.6860 - val_loss: 0.9270 - val_accuracy: 0.6359\n",
      "Epoch 61/100\n",
      "1098/1098 [==============================] - 2s 2ms/step - loss: 0.7743 - accuracy: 0.6869 - val_loss: 0.9128 - val_accuracy: 0.6437\n",
      "Epoch 62/100\n",
      "1098/1098 [==============================] - 2s 2ms/step - loss: 0.7689 - accuracy: 0.6896 - val_loss: 0.9219 - val_accuracy: 0.6419\n",
      "Epoch 63/100\n",
      "1098/1098 [==============================] - 2s 2ms/step - loss: 0.7676 - accuracy: 0.6871 - val_loss: 0.9450 - val_accuracy: 0.6319\n",
      "Epoch 64/100\n",
      "1098/1098 [==============================] - 2s 2ms/step - loss: 0.7678 - accuracy: 0.6888 - val_loss: 0.8958 - val_accuracy: 0.6486\n",
      "Epoch 65/100\n",
      "1098/1098 [==============================] - 3s 3ms/step - loss: 0.7631 - accuracy: 0.6878 - val_loss: 0.9112 - val_accuracy: 0.6445\n",
      "Epoch 66/100\n",
      "1098/1098 [==============================] - 4s 3ms/step - loss: 0.7611 - accuracy: 0.6921 - val_loss: 0.9282 - val_accuracy: 0.6335\n",
      "Epoch 67/100\n",
      "1098/1098 [==============================] - 3s 3ms/step - loss: 0.7582 - accuracy: 0.6939 - val_loss: 0.9117 - val_accuracy: 0.6457\n",
      "Epoch 68/100\n",
      "1098/1098 [==============================] - 2s 2ms/step - loss: 0.7580 - accuracy: 0.6913 - val_loss: 0.9184 - val_accuracy: 0.6344\n",
      "Epoch 69/100\n",
      "1098/1098 [==============================] - 3s 2ms/step - loss: 0.7563 - accuracy: 0.6951 - val_loss: 0.9566 - val_accuracy: 0.6252\n",
      "Epoch 70/100\n",
      "1098/1098 [==============================] - 3s 2ms/step - loss: 0.7525 - accuracy: 0.6951 - val_loss: 0.9329 - val_accuracy: 0.6355\n",
      "Epoch 71/100\n",
      "1098/1098 [==============================] - 3s 2ms/step - loss: 0.7526 - accuracy: 0.6945 - val_loss: 0.9165 - val_accuracy: 0.6432\n",
      "Epoch 72/100\n",
      "1098/1098 [==============================] - 3s 2ms/step - loss: 0.7482 - accuracy: 0.6957 - val_loss: 0.9570 - val_accuracy: 0.6322\n",
      "Epoch 73/100\n",
      "1098/1098 [==============================] - 2s 2ms/step - loss: 0.7488 - accuracy: 0.6963 - val_loss: 0.9259 - val_accuracy: 0.6409\n",
      "Epoch 74/100\n",
      "1098/1098 [==============================] - 3s 3ms/step - loss: 0.7464 - accuracy: 0.6951 - val_loss: 0.9421 - val_accuracy: 0.6309\n",
      "Epoch 75/100\n",
      "1098/1098 [==============================] - 4s 3ms/step - loss: 0.7442 - accuracy: 0.6976 - val_loss: 0.9339 - val_accuracy: 0.6403\n",
      "Epoch 76/100\n",
      "1098/1098 [==============================] - 4s 3ms/step - loss: 0.7455 - accuracy: 0.6979 - val_loss: 0.9153 - val_accuracy: 0.6478\n",
      "Epoch 77/100\n",
      "1098/1098 [==============================] - 3s 3ms/step - loss: 0.7394 - accuracy: 0.7015 - val_loss: 0.9134 - val_accuracy: 0.6468\n",
      "Epoch 78/100\n",
      "1098/1098 [==============================] - 3s 3ms/step - loss: 0.7397 - accuracy: 0.7013 - val_loss: 0.9259 - val_accuracy: 0.6418\n",
      "Epoch 79/100\n",
      "1098/1098 [==============================] - 2s 2ms/step - loss: 0.7402 - accuracy: 0.6990 - val_loss: 0.9467 - val_accuracy: 0.6314\n",
      "Epoch 80/100\n",
      "1098/1098 [==============================] - 2s 2ms/step - loss: 0.7368 - accuracy: 0.6982 - val_loss: 0.9176 - val_accuracy: 0.6479\n",
      "Epoch 81/100\n",
      "1098/1098 [==============================] - 2s 2ms/step - loss: 0.7389 - accuracy: 0.6984 - val_loss: 0.9292 - val_accuracy: 0.6437\n",
      "Epoch 82/100\n",
      "1098/1098 [==============================] - 2s 2ms/step - loss: 0.7323 - accuracy: 0.7049 - val_loss: 0.9274 - val_accuracy: 0.6408\n",
      "Epoch 83/100\n",
      "1098/1098 [==============================] - 3s 3ms/step - loss: 0.7373 - accuracy: 0.6993 - val_loss: 0.9239 - val_accuracy: 0.6379\n",
      "Epoch 84/100\n",
      "1098/1098 [==============================] - 3s 3ms/step - loss: 0.7293 - accuracy: 0.7048 - val_loss: 0.9101 - val_accuracy: 0.6465\n",
      "Epoch 85/100\n",
      "1098/1098 [==============================] - 3s 3ms/step - loss: 0.7290 - accuracy: 0.7025 - val_loss: 0.9156 - val_accuracy: 0.6524\n",
      "Epoch 86/100\n",
      "1098/1098 [==============================] - 2s 2ms/step - loss: 0.7243 - accuracy: 0.7067 - val_loss: 0.9573 - val_accuracy: 0.6289\n",
      "Epoch 87/100\n",
      "1098/1098 [==============================] - 3s 3ms/step - loss: 0.7273 - accuracy: 0.7046 - val_loss: 0.9475 - val_accuracy: 0.6458\n",
      "Epoch 88/100\n",
      "1098/1098 [==============================] - 3s 3ms/step - loss: 0.7205 - accuracy: 0.7080 - val_loss: 0.9249 - val_accuracy: 0.6478\n",
      "Epoch 89/100\n",
      "1098/1098 [==============================] - 2s 2ms/step - loss: 0.7213 - accuracy: 0.7071 - val_loss: 0.9365 - val_accuracy: 0.6388\n",
      "Epoch 90/100\n",
      "1098/1098 [==============================] - 3s 3ms/step - loss: 0.7206 - accuracy: 0.7074 - val_loss: 0.9288 - val_accuracy: 0.6432\n",
      "Epoch 91/100\n",
      "1098/1098 [==============================] - 3s 3ms/step - loss: 0.7167 - accuracy: 0.7110 - val_loss: 0.9493 - val_accuracy: 0.6395\n",
      "Epoch 92/100\n",
      "1098/1098 [==============================] - 4s 3ms/step - loss: 0.7158 - accuracy: 0.7086 - val_loss: 0.9676 - val_accuracy: 0.6264\n",
      "Epoch 93/100\n",
      "1098/1098 [==============================] - 3s 3ms/step - loss: 0.7157 - accuracy: 0.7091 - val_loss: 0.9316 - val_accuracy: 0.6448\n",
      "Epoch 94/100\n",
      "1098/1098 [==============================] - 3s 3ms/step - loss: 0.7147 - accuracy: 0.7098 - val_loss: 1.0031 - val_accuracy: 0.6155\n",
      "Epoch 95/100\n",
      "1098/1098 [==============================] - 2s 2ms/step - loss: 0.7122 - accuracy: 0.7106 - val_loss: 0.9250 - val_accuracy: 0.6542\n",
      "Epoch 96/100\n",
      "1098/1098 [==============================] - 3s 3ms/step - loss: 0.7117 - accuracy: 0.7113 - val_loss: 0.9623 - val_accuracy: 0.6321\n",
      "Epoch 97/100\n",
      "1098/1098 [==============================] - 3s 2ms/step - loss: 0.7111 - accuracy: 0.7136 - val_loss: 0.9466 - val_accuracy: 0.6456\n",
      "Epoch 98/100\n",
      "1098/1098 [==============================] - 2s 2ms/step - loss: 0.7095 - accuracy: 0.7130 - val_loss: 0.9464 - val_accuracy: 0.6400\n",
      "Epoch 99/100\n",
      "1098/1098 [==============================] - 2s 2ms/step - loss: 0.7034 - accuracy: 0.7130 - val_loss: 0.9324 - val_accuracy: 0.6485\n",
      "Epoch 100/100\n",
      "1098/1098 [==============================] - 2s 2ms/step - loss: 0.7053 - accuracy: 0.7137 - val_loss: 0.9357 - val_accuracy: 0.6468\n"
     ]
    }
   ],
   "source": [
    "r = model.fit(train_features, train_labels, validation_data=(test_features, test_labels), epochs=100)\n"
   ]
  },
  {
   "cell_type": "code",
   "execution_count": 141,
   "metadata": {},
   "outputs": [
    {
     "data": {
      "image/png": "[encoded data removed]",
      "text/plain": [
       "<Figure size 1080x720 with 1 Axes>"
      ]
     },
     "metadata": {
      "needs_background": "light"
     },
     "output_type": "display_data"
    }
   ],
   "source": [
    "def plot_loss(history):\n",
    "    plt.figure(figsize=(15, 10))\n",
    "    plt.plot(history.history['accuracy'], label='accuracy')\n",
    "    plt.plot(history.history['val_accuracy'], label='val_accuracy')\n",
    "    plt.xlabel('Epoch')\n",
    "    plt.ylabel('Accuracy')\n",
    "    plt.legend()\n",
    "    plt.grid(True)\n",
    "    plt.show()\n",
    "    \n",
    "plot_loss(r)"
   ]
  },
  {
   "cell_type": "markdown",
   "metadata": {},
   "source": [
    "## Make predictions\n",
    "With the model trained, we now use it to make predictions about the clarity of diamonds. We attach a softmax layer to convert the model's output to probabilities, which are easier to interpret."
   ]
  },
  {
   "cell_type": "code",
   "execution_count": 142,
   "metadata": {},
   "outputs": [],
   "source": [
    "probability_model = tf.keras.Sequential([model,\n",
    "                                         tf.keras.layers.Softmax()])\n"
   ]
  },
  {
   "cell_type": "markdown",
   "metadata": {},
   "source": [
    "We let the model predict the clarity of the test set:"
   ]
  },
  {
   "cell_type": "code",
   "execution_count": 143,
   "metadata": {},
   "outputs": [],
   "source": [
    "predictions = probability_model.predict(test_features)\n"
   ]
  },
  {
   "cell_type": "markdown",
   "metadata": {},
   "source": [
    "We take a look at the first prediction:"
   ]
  },
  {
   "cell_type": "code",
   "execution_count": 144,
   "metadata": {},
   "outputs": [
    {
     "data": {
      "text/plain": [
       "array([0.   , 0.   , 0.003, 0.121, 0.015, 0.652, 0.209, 0.   ],\n",
       "      dtype=float32)"
      ]
     },
     "execution_count": 144,
     "metadata": {},
     "output_type": "execute_result"
    }
   ],
   "source": [
    "predictions[0]\n"
   ]
  },
  {
   "cell_type": "markdown",
   "metadata": {},
   "source": [
    "The prediction is an array of 8 numbers. They represent the model's \"confidence\" that the clarity corresponds to each of the 8 different clarity classes. To see which label has the highest confidence value:"
   ]
  },
  {
   "cell_type": "code",
   "execution_count": 145,
   "metadata": {},
   "outputs": [
    {
     "data": {
      "text/plain": [
       "5"
      ]
     },
     "execution_count": 145,
     "metadata": {},
     "output_type": "execute_result"
    }
   ],
   "source": [
    "np.argmax(predictions[0])\n"
   ]
  },
  {
   "cell_type": "code",
   "execution_count": 153,
   "metadata": {},
   "outputs": [
    {
     "data": {
      "text/plain": [
       "'VVS2'"
      ]
     },
     "execution_count": 153,
     "metadata": {},
     "output_type": "execute_result"
    }
   ],
   "source": [
    "clarity_labels[np.argmax(predictions[0])]\n"
   ]
  },
  {
   "cell_type": "markdown",
   "metadata": {},
   "source": [
    "## Review Performance\n",
    "\n",
    "To get an overview of the model's performance, we print the confusion matrix of the predicted labels. This shows us how many labels did the model classify correctly and how many did he miss."
   ]
  },
  {
   "cell_type": "code",
   "execution_count": 192,
   "metadata": {},
   "outputs": [
    {
     "name": "stdout",
     "output_type": "stream",
     "text": [
      "Predicted   0     1     2     3    4    5    6    7\n",
      "Actual                                             \n",
      "0          51    24     1     0    0    0    0    0\n",
      "1          18  1107   306     7    1    1    0    0\n",
      "2           0   243  1489   196   46   10    6    0\n",
      "3           0    25   403  1293  280   51   12    3\n",
      "4           0     8    84   355  697  126   31    4\n",
      "5           0     0     6    55  204  524   95   17\n",
      "6           0     0     1    15   38  216  340   56\n",
      "7           0     0     0     1    7   41  108  178\n"
     ]
    }
   ],
   "source": [
    "\n",
    "predicted = np.argmax(predictions, axis=1)\n",
    "predicted.shape\n",
    "\n",
    "confusion_matrix = pd.crosstab(test_labels, predicted, rownames=[\n",
    "                               'Actual'], colnames=['Predicted'])\n",
    "print(confusion_matrix)\n"
   ]
  },
  {
   "cell_type": "markdown",
   "metadata": {},
   "source": [
    "Now let's visualise the confusion matrix:"
   ]
  },
  {
   "cell_type": "code",
   "execution_count": 203,
   "metadata": {},
   "outputs": [
    {
     "data": {
      "image/png": "[encoded data removed]",
      "text/plain": [
       "<Figure size 1080x720 with 2 Axes>"
      ]
     },
     "metadata": {
      "needs_background": "light"
     },
     "output_type": "display_data"
    }
   ],
   "source": [
    "\n",
    "confusion_matrix = pd.crosstab(test_labels, predicted, rownames=[\n",
    "                               'Actual'], colnames=['Predicted'])\n",
    "\n",
    "plt.figure(figsize=(15, 10))\n",
    "plt.ticklabel_format(style='plain')\n",
    "sns.heatmap(confusion_matrix, annot=True, cmap='Blues', fmt='g')\n",
    "plt.show()\n"
   ]
  },
  {
   "cell_type": "markdown",
   "metadata": {},
   "source": [
    "## Conclusion\n",
    "\n",
    "We built a classifying deep learning model to classify the clarity of the diamonds using TensorFlow library. The model reached top accuracy of 65%, this is quite low because diamond clarity only has moderate to weak correlations with the other diamond attributes. In the end we visualised the model's performance using the confusion matrix."
   ]
  }
 ],
 "metadata": {
  "interpreter": {
   "hash": "948d73eb6dfda2e804d788ca8e9f193cc8a7762f6fd3fe59d9c3fe882d54f9f4"
  },
  "kernelspec": {
   "display_name": "Python 3.8.8 64-bit ('base': conda)",
   "language": "python",
   "name": "python3"
  },
  "language_info": {
   "codemirror_mode": {
    "name": "ipython",
    "version": 3
   },
   "file_extension": ".py",
   "mimetype": "text/x-python",
   "name": "python",
   "nbconvert_exporter": "python",
   "pygments_lexer": "ipython3",
   "version": "3.8.10"
  },
  "orig_nbformat": 4
 },
 "nbformat": 4,
 "nbformat_minor": 2
}
